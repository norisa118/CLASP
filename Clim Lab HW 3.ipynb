{
 "cells": [
  {
   "cell_type": "markdown",
   "metadata": {},
   "source": [
    "Name: Neha Satish\n",
    "Date: 3/10/2021\n",
    "\n",
    "This python notebook will be looking at magntometer data from a Juno Jupiter orbital mission to resample data, analyze magnitudes and standard deviations, and finally plot the data in an image."
   ]
  },
  {
   "cell_type": "code",
   "execution_count": 1,
   "metadata": {},
   "outputs": [],
   "source": [
    "import numpy as np                           \n",
    "import pandas as pd                          \n",
    "import matplotlib.pyplot as plt               \n",
    "import datetime as dt \n",
    "\n",
    "                                             \n",
    "import matplotlib.dates as mdt                \n",
    "import matplotlib.image as mpimg             \n",
    "    \n",
    "import importlib                              \n",
    "\n",
    "from matplotlib.ticker import MultipleLocator \n",
    "from matplotlib.ticker import FuncFormatter                \n",
    "\n",
    "import externalfunctions as extfunc           \n",
    "\n",
    "%matplotlib inline\n"
   ]
  },
  {
   "cell_type": "markdown",
   "metadata": {},
   "source": [
    "This data is from: https://pds-ppi.igpp.ucla.edu/search/view/?f=yes&id=pds://PPI/JNO-J-3-FGM-CAL-V1.0/DATA/JUPITER/SS/PERI-17\n",
    "The three csv files read in contain Juno Magntometer (FGM) calibrated data from the Juno Jupiter oribtal phases of the three consecutive days of 2018-351, 2018-352, and 2018-353. Specifically, this file contains vector magnetic field data acquired by the FGM instrument aboard the Juno spacecraft. The data are calibrated, provided in physical units (nT), and downsampled to 1 minute. The data in this csv are expressed in Sun-State coordinates."
   ]
  },
  {
   "cell_type": "code",
   "execution_count": 2,
   "metadata": {},
   "outputs": [
    {
     "data": {
      "text/html": [
       "<div>\n",
       "<style scoped>\n",
       "    .dataframe tbody tr th:only-of-type {\n",
       "        vertical-align: middle;\n",
       "    }\n",
       "\n",
       "    .dataframe tbody tr th {\n",
       "        vertical-align: top;\n",
       "    }\n",
       "\n",
       "    .dataframe thead th {\n",
       "        text-align: right;\n",
       "    }\n",
       "</style>\n",
       "<table border=\"1\" class=\"dataframe\">\n",
       "  <thead>\n",
       "    <tr style=\"text-align: right;\">\n",
       "      <th></th>\n",
       "      <th>DOY</th>\n",
       "      <th>MSEC</th>\n",
       "      <th>B_X</th>\n",
       "      <th>B_Y</th>\n",
       "      <th>B_Z</th>\n",
       "      <th>POS_X</th>\n",
       "      <th>POS_Y</th>\n",
       "      <th>POS_Z</th>\n",
       "    </tr>\n",
       "    <tr>\n",
       "      <th>DATETIME</th>\n",
       "      <th></th>\n",
       "      <th></th>\n",
       "      <th></th>\n",
       "      <th></th>\n",
       "      <th></th>\n",
       "      <th></th>\n",
       "      <th></th>\n",
       "      <th></th>\n",
       "    </tr>\n",
       "  </thead>\n",
       "  <tbody>\n",
       "    <tr>\n",
       "      <th>2018-12-17 00:00:01</th>\n",
       "      <td>351</td>\n",
       "      <td>607</td>\n",
       "      <td>5.76</td>\n",
       "      <td>0.08</td>\n",
       "      <td>-1.31</td>\n",
       "      <td>-3526412.875</td>\n",
       "      <td>-1657162.036</td>\n",
       "      <td>-580951.255</td>\n",
       "    </tr>\n",
       "    <tr>\n",
       "      <th>2018-12-17 00:00:02</th>\n",
       "      <td>351</td>\n",
       "      <td>545</td>\n",
       "      <td>5.77</td>\n",
       "      <td>0.07</td>\n",
       "      <td>-1.29</td>\n",
       "      <td>-3526408.389</td>\n",
       "      <td>-1657159.627</td>\n",
       "      <td>-580949.471</td>\n",
       "    </tr>\n",
       "    <tr>\n",
       "      <th>2018-12-17 00:00:03</th>\n",
       "      <td>351</td>\n",
       "      <td>545</td>\n",
       "      <td>5.76</td>\n",
       "      <td>0.06</td>\n",
       "      <td>-1.35</td>\n",
       "      <td>-3526403.603</td>\n",
       "      <td>-1657157.058</td>\n",
       "      <td>-580947.568</td>\n",
       "    </tr>\n",
       "    <tr>\n",
       "      <th>2018-12-17 00:00:04</th>\n",
       "      <td>351</td>\n",
       "      <td>545</td>\n",
       "      <td>5.75</td>\n",
       "      <td>0.10</td>\n",
       "      <td>-1.37</td>\n",
       "      <td>-3526398.818</td>\n",
       "      <td>-1657154.489</td>\n",
       "      <td>-580945.665</td>\n",
       "    </tr>\n",
       "    <tr>\n",
       "      <th>2018-12-17 00:00:05</th>\n",
       "      <td>351</td>\n",
       "      <td>545</td>\n",
       "      <td>5.76</td>\n",
       "      <td>0.12</td>\n",
       "      <td>-1.44</td>\n",
       "      <td>-3526394.033</td>\n",
       "      <td>-1657151.920</td>\n",
       "      <td>-580943.762</td>\n",
       "    </tr>\n",
       "  </tbody>\n",
       "</table>\n",
       "</div>"
      ],
      "text/plain": [
       "                     DOY  MSEC   B_X   B_Y   B_Z        POS_X        POS_Y  \\\n",
       "DATETIME                                                                     \n",
       "2018-12-17 00:00:01  351   607  5.76  0.08 -1.31 -3526412.875 -1657162.036   \n",
       "2018-12-17 00:00:02  351   545  5.77  0.07 -1.29 -3526408.389 -1657159.627   \n",
       "2018-12-17 00:00:03  351   545  5.76  0.06 -1.35 -3526403.603 -1657157.058   \n",
       "2018-12-17 00:00:04  351   545  5.75  0.10 -1.37 -3526398.818 -1657154.489   \n",
       "2018-12-17 00:00:05  351   545  5.76  0.12 -1.44 -3526394.033 -1657151.920   \n",
       "\n",
       "                          POS_Z  \n",
       "DATETIME                         \n",
       "2018-12-17 00:00:01 -580951.255  \n",
       "2018-12-17 00:00:02 -580949.471  \n",
       "2018-12-17 00:00:03 -580947.568  \n",
       "2018-12-17 00:00:04 -580945.665  \n",
       "2018-12-17 00:00:05 -580943.762  "
      ]
     },
     "execution_count": 2,
     "metadata": {},
     "output_type": "execute_result"
    }
   ],
   "source": [
    "importlib.reload(extfunc) \n",
    "\n",
    "year_val = '2018' \n",
    "doy_val  = '351'\n",
    "\n",
    "example_data1 = extfunc.read_FGM(year_val, doy_val)\n",
    "example_data1.drop('DATETIME', axis = 1, inplace = True)\n",
    "example_data1.insert(0, 'DOY', 351)\n",
    "example_data1.head()"
   ]
  },
  {
   "cell_type": "code",
   "execution_count": 3,
   "metadata": {},
   "outputs": [
    {
     "data": {
      "text/html": [
       "<div>\n",
       "<style scoped>\n",
       "    .dataframe tbody tr th:only-of-type {\n",
       "        vertical-align: middle;\n",
       "    }\n",
       "\n",
       "    .dataframe tbody tr th {\n",
       "        vertical-align: top;\n",
       "    }\n",
       "\n",
       "    .dataframe thead th {\n",
       "        text-align: right;\n",
       "    }\n",
       "</style>\n",
       "<table border=\"1\" class=\"dataframe\">\n",
       "  <thead>\n",
       "    <tr style=\"text-align: right;\">\n",
       "      <th></th>\n",
       "      <th>DOY</th>\n",
       "      <th>MSEC</th>\n",
       "      <th>B_X</th>\n",
       "      <th>B_Y</th>\n",
       "      <th>B_Z</th>\n",
       "      <th>POS_X</th>\n",
       "      <th>POS_Y</th>\n",
       "      <th>POS_Z</th>\n",
       "    </tr>\n",
       "    <tr>\n",
       "      <th>DATETIME</th>\n",
       "      <th></th>\n",
       "      <th></th>\n",
       "      <th></th>\n",
       "      <th></th>\n",
       "      <th></th>\n",
       "      <th></th>\n",
       "      <th></th>\n",
       "      <th></th>\n",
       "    </tr>\n",
       "  </thead>\n",
       "  <tbody>\n",
       "    <tr>\n",
       "      <th>2018-12-17 23:59:56</th>\n",
       "      <td>351</td>\n",
       "      <td>438</td>\n",
       "      <td>12.99</td>\n",
       "      <td>4.12</td>\n",
       "      <td>0.70</td>\n",
       "      <td>-3082794.151</td>\n",
       "      <td>-1421918.500</td>\n",
       "      <td>-411884.243</td>\n",
       "    </tr>\n",
       "    <tr>\n",
       "      <th>2018-12-17 23:59:57</th>\n",
       "      <td>351</td>\n",
       "      <td>438</td>\n",
       "      <td>13.03</td>\n",
       "      <td>4.10</td>\n",
       "      <td>0.69</td>\n",
       "      <td>-3082788.630</td>\n",
       "      <td>-1421915.608</td>\n",
       "      <td>-411882.231</td>\n",
       "    </tr>\n",
       "    <tr>\n",
       "      <th>2018-12-17 23:59:58</th>\n",
       "      <td>351</td>\n",
       "      <td>438</td>\n",
       "      <td>12.97</td>\n",
       "      <td>4.07</td>\n",
       "      <td>0.65</td>\n",
       "      <td>-3082783.110</td>\n",
       "      <td>-1421912.717</td>\n",
       "      <td>-411880.219</td>\n",
       "    </tr>\n",
       "    <tr>\n",
       "      <th>2018-12-17 23:59:59</th>\n",
       "      <td>351</td>\n",
       "      <td>438</td>\n",
       "      <td>12.92</td>\n",
       "      <td>4.07</td>\n",
       "      <td>0.61</td>\n",
       "      <td>-3082777.589</td>\n",
       "      <td>-1421909.825</td>\n",
       "      <td>-411878.207</td>\n",
       "    </tr>\n",
       "    <tr>\n",
       "      <th>2018-12-18 00:00:00</th>\n",
       "      <td>351</td>\n",
       "      <td>438</td>\n",
       "      <td>12.93</td>\n",
       "      <td>4.06</td>\n",
       "      <td>0.61</td>\n",
       "      <td>-3082772.068</td>\n",
       "      <td>-1421906.934</td>\n",
       "      <td>-411876.195</td>\n",
       "    </tr>\n",
       "  </tbody>\n",
       "</table>\n",
       "</div>"
      ],
      "text/plain": [
       "                     DOY  MSEC    B_X   B_Y   B_Z        POS_X        POS_Y  \\\n",
       "DATETIME                                                                      \n",
       "2018-12-17 23:59:56  351   438  12.99  4.12  0.70 -3082794.151 -1421918.500   \n",
       "2018-12-17 23:59:57  351   438  13.03  4.10  0.69 -3082788.630 -1421915.608   \n",
       "2018-12-17 23:59:58  351   438  12.97  4.07  0.65 -3082783.110 -1421912.717   \n",
       "2018-12-17 23:59:59  351   438  12.92  4.07  0.61 -3082777.589 -1421909.825   \n",
       "2018-12-18 00:00:00  351   438  12.93  4.06  0.61 -3082772.068 -1421906.934   \n",
       "\n",
       "                          POS_Z  \n",
       "DATETIME                         \n",
       "2018-12-17 23:59:56 -411884.243  \n",
       "2018-12-17 23:59:57 -411882.231  \n",
       "2018-12-17 23:59:58 -411880.219  \n",
       "2018-12-17 23:59:59 -411878.207  \n",
       "2018-12-18 00:00:00 -411876.195  "
      ]
     },
     "execution_count": 3,
     "metadata": {},
     "output_type": "execute_result"
    }
   ],
   "source": [
    "example_data1.tail()"
   ]
  },
  {
   "cell_type": "code",
   "execution_count": 4,
   "metadata": {},
   "outputs": [
    {
     "data": {
      "text/html": [
       "<div>\n",
       "<style scoped>\n",
       "    .dataframe tbody tr th:only-of-type {\n",
       "        vertical-align: middle;\n",
       "    }\n",
       "\n",
       "    .dataframe tbody tr th {\n",
       "        vertical-align: top;\n",
       "    }\n",
       "\n",
       "    .dataframe thead th {\n",
       "        text-align: right;\n",
       "    }\n",
       "</style>\n",
       "<table border=\"1\" class=\"dataframe\">\n",
       "  <thead>\n",
       "    <tr style=\"text-align: right;\">\n",
       "      <th></th>\n",
       "      <th>DOY</th>\n",
       "      <th>MSEC</th>\n",
       "      <th>B_X</th>\n",
       "      <th>B_Y</th>\n",
       "      <th>B_Z</th>\n",
       "      <th>POS_X</th>\n",
       "      <th>POS_Y</th>\n",
       "      <th>POS_Z</th>\n",
       "    </tr>\n",
       "    <tr>\n",
       "      <th>DATETIME</th>\n",
       "      <th></th>\n",
       "      <th></th>\n",
       "      <th></th>\n",
       "      <th></th>\n",
       "      <th></th>\n",
       "      <th></th>\n",
       "      <th></th>\n",
       "      <th></th>\n",
       "    </tr>\n",
       "  </thead>\n",
       "  <tbody>\n",
       "    <tr>\n",
       "      <th>2018-12-18 00:00:01</th>\n",
       "      <td>352</td>\n",
       "      <td>500</td>\n",
       "      <td>12.94</td>\n",
       "      <td>4.04</td>\n",
       "      <td>0.59</td>\n",
       "      <td>-3082766.202</td>\n",
       "      <td>-1421903.861</td>\n",
       "      <td>-411874.057</td>\n",
       "    </tr>\n",
       "    <tr>\n",
       "      <th>2018-12-18 00:00:02</th>\n",
       "      <td>352</td>\n",
       "      <td>438</td>\n",
       "      <td>12.93</td>\n",
       "      <td>4.04</td>\n",
       "      <td>0.59</td>\n",
       "      <td>-3082761.027</td>\n",
       "      <td>-1421901.150</td>\n",
       "      <td>-411872.171</td>\n",
       "    </tr>\n",
       "    <tr>\n",
       "      <th>2018-12-18 00:00:03</th>\n",
       "      <td>352</td>\n",
       "      <td>438</td>\n",
       "      <td>12.92</td>\n",
       "      <td>4.09</td>\n",
       "      <td>0.56</td>\n",
       "      <td>-3082755.506</td>\n",
       "      <td>-1421898.259</td>\n",
       "      <td>-411870.159</td>\n",
       "    </tr>\n",
       "    <tr>\n",
       "      <th>2018-12-18 00:00:04</th>\n",
       "      <td>352</td>\n",
       "      <td>438</td>\n",
       "      <td>12.95</td>\n",
       "      <td>4.06</td>\n",
       "      <td>0.55</td>\n",
       "      <td>-3082749.985</td>\n",
       "      <td>-1421895.367</td>\n",
       "      <td>-411868.146</td>\n",
       "    </tr>\n",
       "    <tr>\n",
       "      <th>2018-12-18 00:00:05</th>\n",
       "      <td>352</td>\n",
       "      <td>438</td>\n",
       "      <td>12.90</td>\n",
       "      <td>4.08</td>\n",
       "      <td>0.58</td>\n",
       "      <td>-3082744.464</td>\n",
       "      <td>-1421892.476</td>\n",
       "      <td>-411866.134</td>\n",
       "    </tr>\n",
       "  </tbody>\n",
       "</table>\n",
       "</div>"
      ],
      "text/plain": [
       "                     DOY  MSEC    B_X   B_Y   B_Z        POS_X        POS_Y  \\\n",
       "DATETIME                                                                      \n",
       "2018-12-18 00:00:01  352   500  12.94  4.04  0.59 -3082766.202 -1421903.861   \n",
       "2018-12-18 00:00:02  352   438  12.93  4.04  0.59 -3082761.027 -1421901.150   \n",
       "2018-12-18 00:00:03  352   438  12.92  4.09  0.56 -3082755.506 -1421898.259   \n",
       "2018-12-18 00:00:04  352   438  12.95  4.06  0.55 -3082749.985 -1421895.367   \n",
       "2018-12-18 00:00:05  352   438  12.90  4.08  0.58 -3082744.464 -1421892.476   \n",
       "\n",
       "                          POS_Z  \n",
       "DATETIME                         \n",
       "2018-12-18 00:00:01 -411874.057  \n",
       "2018-12-18 00:00:02 -411872.171  \n",
       "2018-12-18 00:00:03 -411870.159  \n",
       "2018-12-18 00:00:04 -411868.146  \n",
       "2018-12-18 00:00:05 -411866.134  "
      ]
     },
     "execution_count": 4,
     "metadata": {},
     "output_type": "execute_result"
    }
   ],
   "source": [
    "year_val = '2018' \n",
    "doy_val  = '352'\n",
    "\n",
    "example_data2 = extfunc.read_FGM(year_val, doy_val)\n",
    "example_data2.drop('DATETIME', axis = 1, inplace = True)\n",
    "example_data2.insert(0, 'DOY', 352)\n",
    "example_data2.head()"
   ]
  },
  {
   "cell_type": "code",
   "execution_count": 5,
   "metadata": {},
   "outputs": [
    {
     "data": {
      "text/html": [
       "<div>\n",
       "<style scoped>\n",
       "    .dataframe tbody tr th:only-of-type {\n",
       "        vertical-align: middle;\n",
       "    }\n",
       "\n",
       "    .dataframe tbody tr th {\n",
       "        vertical-align: top;\n",
       "    }\n",
       "\n",
       "    .dataframe thead th {\n",
       "        text-align: right;\n",
       "    }\n",
       "</style>\n",
       "<table border=\"1\" class=\"dataframe\">\n",
       "  <thead>\n",
       "    <tr style=\"text-align: right;\">\n",
       "      <th></th>\n",
       "      <th>DOY</th>\n",
       "      <th>MSEC</th>\n",
       "      <th>B_X</th>\n",
       "      <th>B_Y</th>\n",
       "      <th>B_Z</th>\n",
       "      <th>POS_X</th>\n",
       "      <th>POS_Y</th>\n",
       "      <th>POS_Z</th>\n",
       "    </tr>\n",
       "    <tr>\n",
       "      <th>DATETIME</th>\n",
       "      <th></th>\n",
       "      <th></th>\n",
       "      <th></th>\n",
       "      <th></th>\n",
       "      <th></th>\n",
       "      <th></th>\n",
       "      <th></th>\n",
       "      <th></th>\n",
       "    </tr>\n",
       "  </thead>\n",
       "  <tbody>\n",
       "    <tr>\n",
       "      <th>2018-12-18 23:59:55</th>\n",
       "      <td>352</td>\n",
       "      <td>455</td>\n",
       "      <td>3.68</td>\n",
       "      <td>-2.09</td>\n",
       "      <td>-0.23</td>\n",
       "      <td>-2564111.874</td>\n",
       "      <td>-1153800.313</td>\n",
       "      <td>-233114.168</td>\n",
       "    </tr>\n",
       "    <tr>\n",
       "      <th>2018-12-18 23:59:56</th>\n",
       "      <td>352</td>\n",
       "      <td>455</td>\n",
       "      <td>3.53</td>\n",
       "      <td>-2.07</td>\n",
       "      <td>-0.24</td>\n",
       "      <td>-2564105.323</td>\n",
       "      <td>-1153796.971</td>\n",
       "      <td>-233112.042</td>\n",
       "    </tr>\n",
       "    <tr>\n",
       "      <th>2018-12-18 23:59:57</th>\n",
       "      <td>352</td>\n",
       "      <td>455</td>\n",
       "      <td>3.46</td>\n",
       "      <td>-2.09</td>\n",
       "      <td>-0.29</td>\n",
       "      <td>-2564098.771</td>\n",
       "      <td>-1153793.628</td>\n",
       "      <td>-233109.915</td>\n",
       "    </tr>\n",
       "    <tr>\n",
       "      <th>2018-12-18 23:59:58</th>\n",
       "      <td>352</td>\n",
       "      <td>455</td>\n",
       "      <td>3.48</td>\n",
       "      <td>-2.17</td>\n",
       "      <td>-0.28</td>\n",
       "      <td>-2564092.220</td>\n",
       "      <td>-1153790.285</td>\n",
       "      <td>-233107.789</td>\n",
       "    </tr>\n",
       "    <tr>\n",
       "      <th>2018-12-18 23:59:59</th>\n",
       "      <td>352</td>\n",
       "      <td>455</td>\n",
       "      <td>3.59</td>\n",
       "      <td>-2.15</td>\n",
       "      <td>-0.19</td>\n",
       "      <td>-2564085.667</td>\n",
       "      <td>-1153786.942</td>\n",
       "      <td>-233105.662</td>\n",
       "    </tr>\n",
       "  </tbody>\n",
       "</table>\n",
       "</div>"
      ],
      "text/plain": [
       "                     DOY  MSEC   B_X   B_Y   B_Z        POS_X        POS_Y  \\\n",
       "DATETIME                                                                     \n",
       "2018-12-18 23:59:55  352   455  3.68 -2.09 -0.23 -2564111.874 -1153800.313   \n",
       "2018-12-18 23:59:56  352   455  3.53 -2.07 -0.24 -2564105.323 -1153796.971   \n",
       "2018-12-18 23:59:57  352   455  3.46 -2.09 -0.29 -2564098.771 -1153793.628   \n",
       "2018-12-18 23:59:58  352   455  3.48 -2.17 -0.28 -2564092.220 -1153790.285   \n",
       "2018-12-18 23:59:59  352   455  3.59 -2.15 -0.19 -2564085.667 -1153786.942   \n",
       "\n",
       "                          POS_Z  \n",
       "DATETIME                         \n",
       "2018-12-18 23:59:55 -233114.168  \n",
       "2018-12-18 23:59:56 -233112.042  \n",
       "2018-12-18 23:59:57 -233109.915  \n",
       "2018-12-18 23:59:58 -233107.789  \n",
       "2018-12-18 23:59:59 -233105.662  "
      ]
     },
     "execution_count": 5,
     "metadata": {},
     "output_type": "execute_result"
    }
   ],
   "source": [
    "example_data2.tail()"
   ]
  },
  {
   "cell_type": "code",
   "execution_count": 6,
   "metadata": {},
   "outputs": [
    {
     "data": {
      "text/html": [
       "<div>\n",
       "<style scoped>\n",
       "    .dataframe tbody tr th:only-of-type {\n",
       "        vertical-align: middle;\n",
       "    }\n",
       "\n",
       "    .dataframe tbody tr th {\n",
       "        vertical-align: top;\n",
       "    }\n",
       "\n",
       "    .dataframe thead th {\n",
       "        text-align: right;\n",
       "    }\n",
       "</style>\n",
       "<table border=\"1\" class=\"dataframe\">\n",
       "  <thead>\n",
       "    <tr style=\"text-align: right;\">\n",
       "      <th></th>\n",
       "      <th>DOY</th>\n",
       "      <th>MSEC</th>\n",
       "      <th>B_X</th>\n",
       "      <th>B_Y</th>\n",
       "      <th>B_Z</th>\n",
       "      <th>POS_X</th>\n",
       "      <th>POS_Y</th>\n",
       "      <th>POS_Z</th>\n",
       "    </tr>\n",
       "    <tr>\n",
       "      <th>DATETIME</th>\n",
       "      <th></th>\n",
       "      <th></th>\n",
       "      <th></th>\n",
       "      <th></th>\n",
       "      <th></th>\n",
       "      <th></th>\n",
       "      <th></th>\n",
       "      <th></th>\n",
       "    </tr>\n",
       "  </thead>\n",
       "  <tbody>\n",
       "    <tr>\n",
       "      <th>2018-12-19 00:00:01</th>\n",
       "      <td>353</td>\n",
       "      <td>455</td>\n",
       "      <td>3.63</td>\n",
       "      <td>-2.01</td>\n",
       "      <td>-0.26</td>\n",
       "      <td>-2564072.564</td>\n",
       "      <td>-1153780.256</td>\n",
       "      <td>-233101.410</td>\n",
       "    </tr>\n",
       "    <tr>\n",
       "      <th>2018-12-19 00:00:02</th>\n",
       "      <td>353</td>\n",
       "      <td>455</td>\n",
       "      <td>3.60</td>\n",
       "      <td>-2.00</td>\n",
       "      <td>-0.32</td>\n",
       "      <td>-2564066.013</td>\n",
       "      <td>-1153776.913</td>\n",
       "      <td>-233099.283</td>\n",
       "    </tr>\n",
       "    <tr>\n",
       "      <th>2018-12-19 00:00:03</th>\n",
       "      <td>353</td>\n",
       "      <td>455</td>\n",
       "      <td>3.63</td>\n",
       "      <td>-2.02</td>\n",
       "      <td>-0.25</td>\n",
       "      <td>-2564059.461</td>\n",
       "      <td>-1153773.570</td>\n",
       "      <td>-233097.157</td>\n",
       "    </tr>\n",
       "    <tr>\n",
       "      <th>2018-12-19 00:00:04</th>\n",
       "      <td>353</td>\n",
       "      <td>455</td>\n",
       "      <td>3.63</td>\n",
       "      <td>-2.00</td>\n",
       "      <td>-0.20</td>\n",
       "      <td>-2564052.910</td>\n",
       "      <td>-1153770.227</td>\n",
       "      <td>-233095.030</td>\n",
       "    </tr>\n",
       "    <tr>\n",
       "      <th>2018-12-19 00:00:05</th>\n",
       "      <td>353</td>\n",
       "      <td>455</td>\n",
       "      <td>3.67</td>\n",
       "      <td>-2.01</td>\n",
       "      <td>-0.13</td>\n",
       "      <td>-2564046.357</td>\n",
       "      <td>-1153766.884</td>\n",
       "      <td>-233092.904</td>\n",
       "    </tr>\n",
       "  </tbody>\n",
       "</table>\n",
       "</div>"
      ],
      "text/plain": [
       "                     DOY  MSEC   B_X   B_Y   B_Z        POS_X        POS_Y  \\\n",
       "DATETIME                                                                     \n",
       "2018-12-19 00:00:01  353   455  3.63 -2.01 -0.26 -2564072.564 -1153780.256   \n",
       "2018-12-19 00:00:02  353   455  3.60 -2.00 -0.32 -2564066.013 -1153776.913   \n",
       "2018-12-19 00:00:03  353   455  3.63 -2.02 -0.25 -2564059.461 -1153773.570   \n",
       "2018-12-19 00:00:04  353   455  3.63 -2.00 -0.20 -2564052.910 -1153770.227   \n",
       "2018-12-19 00:00:05  353   455  3.67 -2.01 -0.13 -2564046.357 -1153766.884   \n",
       "\n",
       "                          POS_Z  \n",
       "DATETIME                         \n",
       "2018-12-19 00:00:01 -233101.410  \n",
       "2018-12-19 00:00:02 -233099.283  \n",
       "2018-12-19 00:00:03 -233097.157  \n",
       "2018-12-19 00:00:04 -233095.030  \n",
       "2018-12-19 00:00:05 -233092.904  "
      ]
     },
     "execution_count": 6,
     "metadata": {},
     "output_type": "execute_result"
    }
   ],
   "source": [
    "year_val = '2018' \n",
    "doy_val  = '353'\n",
    "\n",
    "example_data3 = extfunc.read_FGM(year_val, doy_val)\n",
    "example_data3.drop('DATETIME', axis = 1, inplace = True)\n",
    "example_data3.insert(0, 'DOY', 353)\n",
    "example_data3.head()"
   ]
  },
  {
   "cell_type": "code",
   "execution_count": 7,
   "metadata": {},
   "outputs": [
    {
     "data": {
      "text/html": [
       "<div>\n",
       "<style scoped>\n",
       "    .dataframe tbody tr th:only-of-type {\n",
       "        vertical-align: middle;\n",
       "    }\n",
       "\n",
       "    .dataframe tbody tr th {\n",
       "        vertical-align: top;\n",
       "    }\n",
       "\n",
       "    .dataframe thead th {\n",
       "        text-align: right;\n",
       "    }\n",
       "</style>\n",
       "<table border=\"1\" class=\"dataframe\">\n",
       "  <thead>\n",
       "    <tr style=\"text-align: right;\">\n",
       "      <th></th>\n",
       "      <th>DOY</th>\n",
       "      <th>MSEC</th>\n",
       "      <th>B_X</th>\n",
       "      <th>B_Y</th>\n",
       "      <th>B_Z</th>\n",
       "      <th>POS_X</th>\n",
       "      <th>POS_Y</th>\n",
       "      <th>POS_Z</th>\n",
       "    </tr>\n",
       "    <tr>\n",
       "      <th>DATETIME</th>\n",
       "      <th></th>\n",
       "      <th></th>\n",
       "      <th></th>\n",
       "      <th></th>\n",
       "      <th></th>\n",
       "      <th></th>\n",
       "      <th></th>\n",
       "      <th></th>\n",
       "    </tr>\n",
       "  </thead>\n",
       "  <tbody>\n",
       "    <tr>\n",
       "      <th>2018-12-19 23:59:55</th>\n",
       "      <td>353</td>\n",
       "      <td>473</td>\n",
       "      <td>-1.57</td>\n",
       "      <td>0.59</td>\n",
       "      <td>-6.13</td>\n",
       "      <td>-1932780.391</td>\n",
       "      <td>-837039.757</td>\n",
       "      <td>-44877.498</td>\n",
       "    </tr>\n",
       "    <tr>\n",
       "      <th>2018-12-19 23:59:56</th>\n",
       "      <td>353</td>\n",
       "      <td>473</td>\n",
       "      <td>-1.49</td>\n",
       "      <td>0.61</td>\n",
       "      <td>-6.11</td>\n",
       "      <td>-1932772.163</td>\n",
       "      <td>-837035.700</td>\n",
       "      <td>-44875.276</td>\n",
       "    </tr>\n",
       "    <tr>\n",
       "      <th>2018-12-19 23:59:57</th>\n",
       "      <td>353</td>\n",
       "      <td>473</td>\n",
       "      <td>-1.46</td>\n",
       "      <td>0.65</td>\n",
       "      <td>-6.08</td>\n",
       "      <td>-1932763.935</td>\n",
       "      <td>-837031.643</td>\n",
       "      <td>-44873.055</td>\n",
       "    </tr>\n",
       "    <tr>\n",
       "      <th>2018-12-19 23:59:58</th>\n",
       "      <td>353</td>\n",
       "      <td>473</td>\n",
       "      <td>-1.46</td>\n",
       "      <td>0.70</td>\n",
       "      <td>-6.03</td>\n",
       "      <td>-1932755.707</td>\n",
       "      <td>-837027.585</td>\n",
       "      <td>-44870.833</td>\n",
       "    </tr>\n",
       "    <tr>\n",
       "      <th>2018-12-19 23:59:59</th>\n",
       "      <td>353</td>\n",
       "      <td>473</td>\n",
       "      <td>-1.43</td>\n",
       "      <td>0.79</td>\n",
       "      <td>-6.05</td>\n",
       "      <td>-1932747.479</td>\n",
       "      <td>-837023.528</td>\n",
       "      <td>-44868.612</td>\n",
       "    </tr>\n",
       "  </tbody>\n",
       "</table>\n",
       "</div>"
      ],
      "text/plain": [
       "                     DOY  MSEC   B_X   B_Y   B_Z        POS_X       POS_Y  \\\n",
       "DATETIME                                                                    \n",
       "2018-12-19 23:59:55  353   473 -1.57  0.59 -6.13 -1932780.391 -837039.757   \n",
       "2018-12-19 23:59:56  353   473 -1.49  0.61 -6.11 -1932772.163 -837035.700   \n",
       "2018-12-19 23:59:57  353   473 -1.46  0.65 -6.08 -1932763.935 -837031.643   \n",
       "2018-12-19 23:59:58  353   473 -1.46  0.70 -6.03 -1932755.707 -837027.585   \n",
       "2018-12-19 23:59:59  353   473 -1.43  0.79 -6.05 -1932747.479 -837023.528   \n",
       "\n",
       "                         POS_Z  \n",
       "DATETIME                        \n",
       "2018-12-19 23:59:55 -44877.498  \n",
       "2018-12-19 23:59:56 -44875.276  \n",
       "2018-12-19 23:59:57 -44873.055  \n",
       "2018-12-19 23:59:58 -44870.833  \n",
       "2018-12-19 23:59:59 -44868.612  "
      ]
     },
     "execution_count": 7,
     "metadata": {},
     "output_type": "execute_result"
    }
   ],
   "source": [
    "example_data3.tail()"
   ]
  },
  {
   "cell_type": "markdown",
   "metadata": {},
   "source": [
    "Since I have shown the head and the tail of all three dataframes, we can assume that all three dataframes have been imported correctly. Next, I will check to see if there are any missing data:"
   ]
  },
  {
   "cell_type": "code",
   "execution_count": 8,
   "metadata": {},
   "outputs": [
    {
     "name": "stdout",
     "output_type": "stream",
     "text": [
      "86400\n",
      "86399\n",
      "86399\n",
      "(86400, 8)\n",
      "(86399, 8)\n",
      "(86399, 8)\n"
     ]
    }
   ],
   "source": [
    "print(len(example_data1))\n",
    "print(len(example_data2))\n",
    "print(len(example_data3))\n",
    "\n",
    "print(example_data1.shape)\n",
    "print(example_data2.shape)\n",
    "print(example_data3.shape)"
   ]
  },
  {
   "cell_type": "markdown",
   "metadata": {},
   "source": [
    "Since the first day has 86,400 values, but the other 2 days have only 86,399 values, the second and third days have a missing data point each. Looking at the last value of the first datafram, it seems as though there is a null start value of the new day — meaning that in the day 351 dataframe, the last point is the 0th second of day 352. This seems to be done intentionally, so that the next day's datafram can start at Hour 0, Minute 0, and Second 1. The other 2 dataframes are missing this 0,0,0 \"null\" value, and so I will resample in order to keep that placeholder format of the first day's dataframe. "
   ]
  },
  {
   "cell_type": "code",
   "execution_count": 9,
   "metadata": {},
   "outputs": [
    {
     "name": "stdout",
     "output_type": "stream",
     "text": [
      "                     DOY  MSEC   B_X   B_Y   B_Z        POS_X        POS_Y  \\\n",
      "DATETIME                                                                     \n",
      "2018-12-17 00:00:01  351   607  5.76  0.08 -1.31 -3526412.875 -1657162.036   \n",
      "2018-12-17 00:00:02  351   545  5.77  0.07 -1.29 -3526408.389 -1657159.627   \n",
      "2018-12-17 00:00:03  351   545  5.76  0.06 -1.35 -3526403.603 -1657157.058   \n",
      "2018-12-17 00:00:04  351   545  5.75  0.10 -1.37 -3526398.818 -1657154.489   \n",
      "2018-12-17 00:00:05  351   545  5.76  0.12 -1.44 -3526394.033 -1657151.920   \n",
      "...                  ...   ...   ...   ...   ...          ...          ...   \n",
      "2018-12-19 23:59:55  353   473 -1.57  0.59 -6.13 -1932780.391  -837039.757   \n",
      "2018-12-19 23:59:56  353   473 -1.49  0.61 -6.11 -1932772.163  -837035.700   \n",
      "2018-12-19 23:59:57  353   473 -1.46  0.65 -6.08 -1932763.935  -837031.643   \n",
      "2018-12-19 23:59:58  353   473 -1.46  0.70 -6.03 -1932755.707  -837027.585   \n",
      "2018-12-19 23:59:59  353   473 -1.43  0.79 -6.05 -1932747.479  -837023.528   \n",
      "\n",
      "                          POS_Z  \n",
      "DATETIME                         \n",
      "2018-12-17 00:00:01 -580951.255  \n",
      "2018-12-17 00:00:02 -580949.471  \n",
      "2018-12-17 00:00:03 -580947.568  \n",
      "2018-12-17 00:00:04 -580945.665  \n",
      "2018-12-17 00:00:05 -580943.762  \n",
      "...                         ...  \n",
      "2018-12-19 23:59:55  -44877.498  \n",
      "2018-12-19 23:59:56  -44875.276  \n",
      "2018-12-19 23:59:57  -44873.055  \n",
      "2018-12-19 23:59:58  -44870.833  \n",
      "2018-12-19 23:59:59  -44868.612  \n",
      "\n",
      "[259198 rows x 8 columns]\n"
     ]
    }
   ],
   "source": [
    "#merging into one frame:\n",
    "prev_data_FGM = pd.concat([example_data1, example_data2, example_data3])\n",
    "print(prev_data_FGM)"
   ]
  },
  {
   "cell_type": "code",
   "execution_count": 10,
   "metadata": {},
   "outputs": [
    {
     "name": "stdout",
     "output_type": "stream",
     "text": [
      "259199 259200 259198\n"
     ]
    }
   ],
   "source": [
    "#resample\n",
    "\n",
    "data_FGM = (prev_data_FGM.resample('1S').asfreq())\n",
    "\n",
    "#And now let's check the lengths again -\n",
    "\n",
    "print(len(data_FGM), (24*3*60*60), len(prev_data_FGM))\n",
    "\n"
   ]
  },
  {
   "cell_type": "markdown",
   "metadata": {},
   "source": [
    "Resample needs data points on either end of the dataframe to be present in order to properly function, and since my second and third day's of data have their last point missing, resample could not work properly. Since the dataframes were concatenated, the third day's 0, 0, 0  time acted as the ending point to the second day's missing data. The third day, however, does not have any ending point, so resample did not work and one data point is still missing. Since this was not explained in the scope of the lab, I left my resample attempt in!"
   ]
  },
  {
   "cell_type": "code",
   "execution_count": 11,
   "metadata": {},
   "outputs": [
    {
     "name": "stdout",
     "output_type": "stream",
     "text": [
      "                      POS_X_RJ        POS_X\n",
      "DATETIME                                   \n",
      "2018-12-17 00:00:01 -49.325979 -3526412.875\n",
      "2018-12-17 00:00:02 -49.325916 -3526408.389\n",
      "2018-12-17 00:00:03 -49.325849 -3526403.603\n",
      "2018-12-17 00:00:04 -49.325782 -3526398.818\n",
      "2018-12-17 00:00:05 -49.325715 -3526394.033\n"
     ]
    }
   ],
   "source": [
    "#Convert the spacecraft location data into units of Jupiter Radii\n",
    "\n",
    "\n",
    "#pass in columns to convert\n",
    "converted_cols = extfunc.convert_jupiter_r(data_FGM[['POS_X', 'POS_Y', 'POS_Z']])\n",
    "\n",
    "#create and assign new columns here - \n",
    "data_FGM[['POS_X_RJ', 'POS_Y_RJ', 'POS_Z_RJ']] = converted_cols\n",
    "\n",
    "#take a look \n",
    "print(data_FGM[['POS_X_RJ', 'POS_X']].head())"
   ]
  },
  {
   "cell_type": "code",
   "execution_count": 12,
   "metadata": {},
   "outputs": [
    {
     "name": "stdout",
     "output_type": "stream",
     "text": [
      "                      B_X   B_Y   B_Z\n",
      "DATETIME                             \n",
      "2018-12-17 00:00:01  5.76  0.08 -1.31\n",
      "2018-12-17 00:00:02  5.77  0.07 -1.29\n",
      "2018-12-17 00:00:03  5.76  0.06 -1.35\n",
      "2018-12-17 00:00:04  5.75  0.10 -1.37\n",
      "2018-12-17 00:00:05  5.76  0.12 -1.44\n"
     ]
    }
   ],
   "source": [
    "print(data_FGM[['B_X', 'B_Y', 'B_Z']].head())"
   ]
  },
  {
   "cell_type": "code",
   "execution_count": 13,
   "metadata": {},
   "outputs": [
    {
     "name": "stdout",
     "output_type": "stream",
     "text": [
      "                         B_XC          B_YC      B_ZC\n",
      "DATETIME                                             \n",
      "2018-12-17 00:00:01  0.000058  8.000000e-07 -0.000013\n",
      "2018-12-17 00:00:02  0.000058  7.000000e-07 -0.000013\n",
      "2018-12-17 00:00:03  0.000058  6.000000e-07 -0.000014\n",
      "2018-12-17 00:00:04  0.000058  1.000000e-06 -0.000014\n",
      "2018-12-17 00:00:05  0.000058  1.200000e-06 -0.000014\n"
     ]
    }
   ],
   "source": [
    "#convert the magnetic field data into units of Gauss: \n",
    "#multiply by the conversion factor and then saving into the same column in the dataframe:\n",
    "data_FGM['B_XC'] = data_FGM['B_X'].astype(float)*0.00001\n",
    "data_FGM['B_YC'] = data_FGM['B_Y'].astype(float)*0.00001\n",
    "data_FGM['B_ZC'] = data_FGM['B_Z'].astype(float)*0.00001\n",
    "\n",
    "print(data_FGM[['B_XC', 'B_YC', 'B_ZC']].head())"
   ]
  },
  {
   "cell_type": "code",
   "execution_count": 14,
   "metadata": {},
   "outputs": [
    {
     "name": "stdout",
     "output_type": "stream",
     "text": [
      "DATETIME\n",
      "2018-12-17 00:00:01    5.907631\n",
      "2018-12-17 00:00:02    5.912859\n",
      "2018-12-17 00:00:03    5.916392\n",
      "2018-12-17 00:00:04    5.911802\n",
      "2018-12-17 00:00:05    5.938485\n",
      "                         ...   \n",
      "2018-12-19 23:59:55    6.355305\n",
      "2018-12-19 23:59:56    6.318568\n",
      "2018-12-19 23:59:57    6.286533\n",
      "2018-12-19 23:59:58    6.243597\n",
      "2018-12-19 23:59:59    6.266698\n",
      "Freq: S, Name: B_MAG_nT, Length: 259199, dtype: float64\n"
     ]
    }
   ],
   "source": [
    "#Calculate the magnitude of the magnetic field data in nT:\n",
    "magnitude = extfunc.add_quadrature(data_FGM['B_X'], \n",
    "                                   data_FGM['B_Y'], data_FGM['B_Z'])\n",
    "\n",
    "data_FGM['B_MAG_nT'] = magnitude\n",
    "print(data_FGM['B_MAG_nT'])"
   ]
  },
  {
   "cell_type": "code",
   "execution_count": 15,
   "metadata": {},
   "outputs": [
    {
     "name": "stdout",
     "output_type": "stream",
     "text": [
      "DATETIME\n",
      "2018-12-17 00:00:01    0.000059\n",
      "2018-12-17 00:00:02    0.000059\n",
      "2018-12-17 00:00:03    0.000059\n",
      "2018-12-17 00:00:04    0.000059\n",
      "2018-12-17 00:00:05    0.000059\n",
      "                         ...   \n",
      "2018-12-19 23:59:55    0.000064\n",
      "2018-12-19 23:59:56    0.000063\n",
      "2018-12-19 23:59:57    0.000063\n",
      "2018-12-19 23:59:58    0.000062\n",
      "2018-12-19 23:59:59    0.000063\n",
      "Freq: S, Name: B_MAG_Gauss, Length: 259199, dtype: float64\n"
     ]
    }
   ],
   "source": [
    "#Calculate the magnitude of the magnetic field data in Gauss:\n",
    "magnitude2 = extfunc.add_quadrature(data_FGM['B_XC'], \n",
    "                                   data_FGM['B_YC'], data_FGM['B_ZC'])\n",
    "\n",
    "data_FGM['B_MAG_Gauss'] = magnitude2\n",
    "print(data_FGM['B_MAG_Gauss'])"
   ]
  },
  {
   "cell_type": "code",
   "execution_count": 16,
   "metadata": {},
   "outputs": [
    {
     "data": {
      "text/plain": [
       "2.8528042660007373"
      ]
     },
     "execution_count": 16,
     "metadata": {},
     "output_type": "execute_result"
    }
   ],
   "source": [
    "#Calculating std for magnetic data in nT fo r day 351:\n",
    "data_FGM.loc[data_FGM['DOY'] == 351]['B_MAG_nT'].std()            "
   ]
  },
  {
   "cell_type": "code",
   "execution_count": 17,
   "metadata": {},
   "outputs": [
    {
     "data": {
      "text/plain": [
       "3.536095683551541"
      ]
     },
     "execution_count": 17,
     "metadata": {},
     "output_type": "execute_result"
    }
   ],
   "source": [
    "#Calculating std for magnetic data in nT fo r day 352:\n",
    "data_FGM.loc[data_FGM['DOY'] == 352]['B_MAG_nT'].std()"
   ]
  },
  {
   "cell_type": "code",
   "execution_count": 18,
   "metadata": {},
   "outputs": [
    {
     "data": {
      "text/plain": [
       "6.052735689153503"
      ]
     },
     "execution_count": 18,
     "metadata": {},
     "output_type": "execute_result"
    }
   ],
   "source": [
    "#Calculating std for magnetic data in nT fo r day 353:\n",
    "data_FGM.loc[data_FGM['DOY'] == 353]['B_MAG_nT'].std()"
   ]
  },
  {
   "cell_type": "code",
   "execution_count": 19,
   "metadata": {},
   "outputs": [
    {
     "data": {
      "text/plain": [
       "2.8528042660007293e-05"
      ]
     },
     "execution_count": 19,
     "metadata": {},
     "output_type": "execute_result"
    }
   ],
   "source": [
    "#Calculating std for magnetic data in Gauss fo r day 351:\n",
    "data_FGM.loc[data_FGM['DOY'] == 351]['B_MAG_Gauss'].std()            "
   ]
  },
  {
   "cell_type": "code",
   "execution_count": 20,
   "metadata": {},
   "outputs": [
    {
     "data": {
      "text/plain": [
       "3.5360956835515293e-05"
      ]
     },
     "execution_count": 20,
     "metadata": {},
     "output_type": "execute_result"
    }
   ],
   "source": [
    "#Calculating std for magnetic data in nT fo r day 352:\n",
    "data_FGM.loc[data_FGM['DOY'] == 352]['B_MAG_Gauss'].std()"
   ]
  },
  {
   "cell_type": "code",
   "execution_count": 21,
   "metadata": {},
   "outputs": [
    {
     "data": {
      "text/plain": [
       "6.052735689153456e-05"
      ]
     },
     "execution_count": 21,
     "metadata": {},
     "output_type": "execute_result"
    }
   ],
   "source": [
    "#Calculating std for magnetic data in nT fo r day 353:\n",
    "data_FGM.loc[data_FGM['DOY'] == 353]['B_MAG_Gauss'].std()"
   ]
  },
  {
   "cell_type": "code",
   "execution_count": 22,
   "metadata": {},
   "outputs": [],
   "source": [
    "from scipy.stats.mstats import gmean, hmean"
   ]
  },
  {
   "cell_type": "code",
   "execution_count": 23,
   "metadata": {},
   "outputs": [
    {
     "data": {
      "text/plain": [
       "9.870995009012232"
      ]
     },
     "execution_count": 23,
     "metadata": {},
     "output_type": "execute_result"
    }
   ],
   "source": [
    "#Calculate the arithmetic means of the magnitude in nT:\n",
    "#Day 351:\n",
    "np.mean(data_FGM.loc[data_FGM['DOY'] == 351]['B_MAG_nT'])"
   ]
  },
  {
   "cell_type": "code",
   "execution_count": 24,
   "metadata": {},
   "outputs": [
    {
     "data": {
      "text/plain": [
       "14.488252065355727"
      ]
     },
     "execution_count": 24,
     "metadata": {},
     "output_type": "execute_result"
    }
   ],
   "source": [
    "#Day 352:\n",
    "np.mean(data_FGM.loc[data_FGM['DOY'] == 352]['B_MAG_nT'])"
   ]
  },
  {
   "cell_type": "code",
   "execution_count": 25,
   "metadata": {},
   "outputs": [
    {
     "data": {
      "text/plain": [
       "19.94458166724999"
      ]
     },
     "execution_count": 25,
     "metadata": {},
     "output_type": "execute_result"
    }
   ],
   "source": [
    "#Day 353:\n",
    "np.mean(data_FGM.loc[data_FGM['DOY'] == 353]['B_MAG_nT'])"
   ]
  },
  {
   "cell_type": "code",
   "execution_count": 26,
   "metadata": {},
   "outputs": [
    {
     "data": {
      "text/plain": [
       "8.179000394867572"
      ]
     },
     "execution_count": 26,
     "metadata": {},
     "output_type": "execute_result"
    }
   ],
   "source": [
    "#Calculate the harmonic means of the magnitude in nT: \n",
    "#Day 351:\n",
    "hmean(data_FGM.loc[data_FGM['DOY'] == 351]['B_MAG_nT'])"
   ]
  },
  {
   "cell_type": "code",
   "execution_count": 27,
   "metadata": {},
   "outputs": [
    {
     "data": {
      "text/plain": [
       "12.138841066663064"
      ]
     },
     "execution_count": 27,
     "metadata": {},
     "output_type": "execute_result"
    }
   ],
   "source": [
    "#Day 352:\n",
    "hmean(data_FGM.loc[data_FGM['DOY'] == 352]['B_MAG_nT'])"
   ]
  },
  {
   "cell_type": "code",
   "execution_count": 28,
   "metadata": {},
   "outputs": [
    {
     "data": {
      "text/plain": [
       "15.838061117441722"
      ]
     },
     "execution_count": 28,
     "metadata": {},
     "output_type": "execute_result"
    }
   ],
   "source": [
    "#Day 353:\n",
    "hmean(data_FGM.loc[data_FGM['DOY'] == 353]['B_MAG_nT'])"
   ]
  },
  {
   "cell_type": "code",
   "execution_count": 29,
   "metadata": {},
   "outputs": [
    {
     "data": {
      "text/plain": [
       "9.259455867902469"
      ]
     },
     "execution_count": 29,
     "metadata": {},
     "output_type": "execute_result"
    }
   ],
   "source": [
    "#Calculate the geometric means of the magnitude in nT: \n",
    "#Day 351:\n",
    "gmean(data_FGM.loc[data_FGM['DOY'] == 351]['B_MAG_nT'])"
   ]
  },
  {
   "cell_type": "code",
   "execution_count": 30,
   "metadata": {},
   "outputs": [
    {
     "data": {
      "text/plain": [
       "13.76832141187383"
      ]
     },
     "execution_count": 30,
     "metadata": {},
     "output_type": "execute_result"
    }
   ],
   "source": [
    "#Day 352:\n",
    "gmean(data_FGM.loc[data_FGM['DOY'] == 352]['B_MAG_nT'])"
   ]
  },
  {
   "cell_type": "code",
   "execution_count": 31,
   "metadata": {},
   "outputs": [
    {
     "data": {
      "text/plain": [
       "18.52132240319326"
      ]
     },
     "execution_count": 31,
     "metadata": {},
     "output_type": "execute_result"
    }
   ],
   "source": [
    "gmean(data_FGM.loc[data_FGM['DOY'] == 353]['B_MAG_nT'])"
   ]
  },
  {
   "cell_type": "code",
   "execution_count": 32,
   "metadata": {},
   "outputs": [
    {
     "data": {
      "text/plain": [
       "9.870995009012285e-05"
      ]
     },
     "execution_count": 32,
     "metadata": {},
     "output_type": "execute_result"
    }
   ],
   "source": [
    "# DOING AL OF THE ABOVE IN GAUSSIAN UNITS :\n",
    "#Calculate the arithmetic means of the magnitude in Gauss:\n",
    "#Day 351:\n",
    "np.mean(data_FGM.loc[data_FGM['DOY'] == 351]['B_MAG_Gauss'])"
   ]
  },
  {
   "cell_type": "code",
   "execution_count": 33,
   "metadata": {},
   "outputs": [
    {
     "data": {
      "text/plain": [
       "0.0001448825206535567"
      ]
     },
     "execution_count": 33,
     "metadata": {},
     "output_type": "execute_result"
    }
   ],
   "source": [
    "#Day 352:\n",
    "np.mean(data_FGM.loc[data_FGM['DOY'] == 352]['B_MAG_Gauss'])"
   ]
  },
  {
   "cell_type": "code",
   "execution_count": 34,
   "metadata": {},
   "outputs": [
    {
     "data": {
      "text/plain": [
       "0.00019944581667249964"
      ]
     },
     "execution_count": 34,
     "metadata": {},
     "output_type": "execute_result"
    }
   ],
   "source": [
    "#Day 353:\n",
    "np.mean(data_FGM.loc[data_FGM['DOY'] == 353]['B_MAG_Gauss'])"
   ]
  },
  {
   "cell_type": "code",
   "execution_count": 35,
   "metadata": {},
   "outputs": [
    {
     "data": {
      "text/plain": [
       "8.179000394867575e-05"
      ]
     },
     "execution_count": 35,
     "metadata": {},
     "output_type": "execute_result"
    }
   ],
   "source": [
    "#Calculate the harmonic means of the magnitude in Gauss: \n",
    "#Day 351:\n",
    "hmean(data_FGM.loc[data_FGM['DOY'] == 351]['B_MAG_Gauss'])"
   ]
  },
  {
   "cell_type": "code",
   "execution_count": 36,
   "metadata": {},
   "outputs": [
    {
     "data": {
      "text/plain": [
       "0.00012138841066663064"
      ]
     },
     "execution_count": 36,
     "metadata": {},
     "output_type": "execute_result"
    }
   ],
   "source": [
    "#Day 352:\n",
    "hmean(data_FGM.loc[data_FGM['DOY'] == 352]['B_MAG_Gauss'])"
   ]
  },
  {
   "cell_type": "code",
   "execution_count": 37,
   "metadata": {},
   "outputs": [
    {
     "data": {
      "text/plain": [
       "0.0001583806111744173"
      ]
     },
     "execution_count": 37,
     "metadata": {},
     "output_type": "execute_result"
    }
   ],
   "source": [
    "#Day 353:\n",
    "hmean(data_FGM.loc[data_FGM['DOY'] == 353]['B_MAG_Gauss'])"
   ]
  },
  {
   "cell_type": "code",
   "execution_count": 38,
   "metadata": {},
   "outputs": [
    {
     "data": {
      "text/plain": [
       "9.259455867902466e-05"
      ]
     },
     "execution_count": 38,
     "metadata": {},
     "output_type": "execute_result"
    }
   ],
   "source": [
    "#Calculate the geometric means of the magnitude in Gauss: \n",
    "#Day 351:\n",
    "gmean(data_FGM.loc[data_FGM['DOY'] == 351]['B_MAG_Gauss'])"
   ]
  },
  {
   "cell_type": "code",
   "execution_count": 39,
   "metadata": {},
   "outputs": [
    {
     "data": {
      "text/plain": [
       "0.00013768321411873838"
      ]
     },
     "execution_count": 39,
     "metadata": {},
     "output_type": "execute_result"
    }
   ],
   "source": [
    "#Day 352:\n",
    "gmean(data_FGM.loc[data_FGM['DOY'] == 352]['B_MAG_Gauss'])"
   ]
  },
  {
   "cell_type": "code",
   "execution_count": 40,
   "metadata": {},
   "outputs": [
    {
     "data": {
      "text/plain": [
       "0.0001852132240319323"
      ]
     },
     "execution_count": 40,
     "metadata": {},
     "output_type": "execute_result"
    }
   ],
   "source": [
    "gmean(data_FGM.loc[data_FGM['DOY'] == 353]['B_MAG_Gauss'])"
   ]
  },
  {
   "cell_type": "markdown",
   "metadata": {},
   "source": [
    "Comment on your calculated values in a paragraph:\n",
    "\n",
    "We used a sample of data from three days and calculated the standard deviation within each one of those days in order to generate inferences about the population's standard deviation as a whole. In this case, the population would be every single day's data within the Juno Jupiter oribtal phase index. We had three ways of describing the magnitude: Harmonic, Geometric, and Arithmetic Means. All three describe the daily magnitudes in different ways. Since the harmonic mean is particularly sensitive to lower-than average values, we get the worst case realistic average of magnitudes with this estimation. The geometric mean idicates return, so it provides an estimation for the magnitude under the conditions of a different day, or after a certain amount of time. The regular arithmetic mean provides the average mean value that the magnitudes within each of our three sample days are centerd around. There are differences from day to day. In each one of the calculated values, the mean calculations are increasing between the three days. The units have no effect on the overall distributions of the means. All of the units are simply shifted to a different scale of being multiplied by e^-5. The shape and description of the distribution will remain unchanged, but shifted."
   ]
  },
  {
   "cell_type": "code",
   "execution_count": 63,
   "metadata": {},
   "outputs": [
    {
     "data": {
      "text/plain": [
       "Text(0, 0.5, 'Day 3')"
      ]
     },
     "execution_count": 63,
     "metadata": {},
     "output_type": "execute_result"
    },
    {
     "data": {
      "image/png": "[encoded data removed]",
      "text/plain": [
       "<Figure size 792x504 with 3 Axes>"
      ]
     },
     "metadata": {
      "needs_background": "light"
     },
     "output_type": "display_data"
    }
   ],
   "source": [
    "fig = plt.figure(figsize=(11, 7))\n",
    "gs = plt.GridSpec(5, 2, hspace = 0.3, wspace = 0.0, right = 0.8)\n",
    "ax2 = fig.add_subplot(gs[0, :])\n",
    "ax3 = fig.add_subplot(gs[1, :])\n",
    "ax4 = fig.add_subplot(gs[2, :])\n",
    "plt.xlabel('nT', fontsize = 15)\n",
    "fig.suptitle('Magnitude of electric field for 3 days', fontsize = 30)\n",
    "#first day histogram and labels\n",
    "ax2.hist(data_FGM.loc[data_FGM['DOY'] == 351]['B_MAG_nT'],bins = 30)\n",
    "ax2.set_ylabel('Day 1', fontsize = 10)\n",
    "#second day histogram\n",
    "ax3.hist(data_FGM.loc[data_FGM['DOY'] == 352]['B_MAG_nT'],bins = 30)\n",
    "ax3.set_ylabel('Day 2', fontsize = 10)\n",
    "#day 3 histogram\n",
    "ax4.hist(data_FGM.loc[data_FGM['DOY'] == 353]['B_MAG_nT'],bins = 30)\n",
    "ax4.set_ylabel('Day 3', fontsize = 10)"
   ]
  },
  {
   "cell_type": "code",
   "execution_count": 43,
   "metadata": {},
   "outputs": [],
   "source": [
    "resolution = 50.0 #nT"
   ]
  },
  {
   "cell_type": "code",
   "execution_count": 58,
   "metadata": {},
   "outputs": [
    {
     "name": "stdout",
     "output_type": "stream",
     "text": [
      "                       DOY   MSEC   B_X   B_Y   B_Z        POS_X        POS_Y  \\\n",
      "DATETIME                                                                        \n",
      "2018-12-17 00:00:01  351.0  607.0  5.76  0.08 -1.31 -3526412.875 -1657162.036   \n",
      "2018-12-17 00:00:02  351.0  545.0  5.77  0.07 -1.29 -3526408.389 -1657159.627   \n",
      "2018-12-17 00:00:03  351.0  545.0  5.76  0.06 -1.35 -3526403.603 -1657157.058   \n",
      "2018-12-17 00:00:04  351.0  545.0  5.75  0.10 -1.37 -3526398.818 -1657154.489   \n",
      "2018-12-17 00:00:05  351.0  545.0  5.76  0.12 -1.44 -3526394.033 -1657151.920   \n",
      "\n",
      "                          POS_Z   POS_X_RJ   POS_Y_RJ  POS_Z_RJ      B_XC  \\\n",
      "DATETIME                                                                    \n",
      "2018-12-17 00:00:01 -580951.255 -49.325979 -23.179685 -8.126102  0.000058   \n",
      "2018-12-17 00:00:02 -580949.471 -49.325916 -23.179651 -8.126077  0.000058   \n",
      "2018-12-17 00:00:03 -580947.568 -49.325849 -23.179615 -8.126050  0.000058   \n",
      "2018-12-17 00:00:04 -580945.665 -49.325782 -23.179579 -8.126023  0.000058   \n",
      "2018-12-17 00:00:05 -580943.762 -49.325715 -23.179543 -8.125997  0.000058   \n",
      "\n",
      "                             B_YC      B_ZC  B_MAG_nT  B_MAG_Gauss  \\\n",
      "DATETIME                                                             \n",
      "2018-12-17 00:00:01  8.000000e-07 -0.000013  5.907631     0.000059   \n",
      "2018-12-17 00:00:02  7.000000e-07 -0.000013  5.912859     0.000059   \n",
      "2018-12-17 00:00:03  6.000000e-07 -0.000014  5.916392     0.000059   \n",
      "2018-12-17 00:00:04  1.000000e-06 -0.000014  5.911802     0.000059   \n",
      "2018-12-17 00:00:05  1.200000e-06 -0.000014  5.938485     0.000059   \n",
      "\n",
      "                     B_MAG_ERROR       std  \n",
      "DATETIME                                    \n",
      "2018-12-17 00:00:01         50.0  2.852804  \n",
      "2018-12-17 00:00:02         50.0  2.852804  \n",
      "2018-12-17 00:00:03         50.0  2.852804  \n",
      "2018-12-17 00:00:04         50.0  2.852804  \n",
      "2018-12-17 00:00:05         50.0  2.852804  \n",
      "                       DOY   MSEC   B_X   B_Y   B_Z        POS_X       POS_Y  \\\n",
      "DATETIME                                                                       \n",
      "2018-12-19 23:59:55  353.0  473.0 -1.57  0.59 -6.13 -1932780.391 -837039.757   \n",
      "2018-12-19 23:59:56  353.0  473.0 -1.49  0.61 -6.11 -1932772.163 -837035.700   \n",
      "2018-12-19 23:59:57  353.0  473.0 -1.46  0.65 -6.08 -1932763.935 -837031.643   \n",
      "2018-12-19 23:59:58  353.0  473.0 -1.46  0.70 -6.03 -1932755.707 -837027.585   \n",
      "2018-12-19 23:59:59  353.0  473.0 -1.43  0.79 -6.05 -1932747.479 -837023.528   \n",
      "\n",
      "                         POS_Z   POS_X_RJ   POS_Y_RJ  POS_Z_RJ      B_XC  \\\n",
      "DATETIME                                                                   \n",
      "2018-12-19 23:59:55 -44877.498 -27.034918 -11.708160 -0.627728 -0.000016   \n",
      "2018-12-19 23:59:56 -44875.276 -27.034803 -11.708103 -0.627696 -0.000015   \n",
      "2018-12-19 23:59:57 -44873.055 -27.034688 -11.708046 -0.627665 -0.000015   \n",
      "2018-12-19 23:59:58 -44870.833 -27.034573 -11.707989 -0.627634 -0.000015   \n",
      "2018-12-19 23:59:59 -44868.612 -27.034458 -11.707933 -0.627603 -0.000014   \n",
      "\n",
      "                         B_YC      B_ZC  B_MAG_nT  B_MAG_Gauss  B_MAG_ERROR  \\\n",
      "DATETIME                                                                      \n",
      "2018-12-19 23:59:55  0.000006 -0.000061  6.355305     0.000064         50.0   \n",
      "2018-12-19 23:59:56  0.000006 -0.000061  6.318568     0.000063         50.0   \n",
      "2018-12-19 23:59:57  0.000007 -0.000061  6.286533     0.000063         50.0   \n",
      "2018-12-19 23:59:58  0.000007 -0.000060  6.243597     0.000062         50.0   \n",
      "2018-12-19 23:59:59  0.000008 -0.000061  6.266698     0.000063         50.0   \n",
      "\n",
      "                          std  \n",
      "DATETIME                       \n",
      "2018-12-19 23:59:55  6.052736  \n",
      "2018-12-19 23:59:56  6.052736  \n",
      "2018-12-19 23:59:57  6.052736  \n",
      "2018-12-19 23:59:58  6.052736  \n",
      "2018-12-19 23:59:59  6.052736  \n"
     ]
    }
   ],
   "source": [
    "data_FGM['std'] = data_FGM['DOY']\n",
    "data_FGM['std'].replace([351, 352, 353], [2.8528042660007373,3.536095683551541,6.052735689153503], inplace = True)\n",
    "print(data_FGM.head())\n",
    "print(data_FGM.tail())"
   ]
  },
  {
   "cell_type": "code",
   "execution_count": 59,
   "metadata": {},
   "outputs": [
    {
     "data": {
      "image/png": "[encoded data removed]",
      "text/plain": [
       "<Figure size 936x864 with 4 Axes>"
      ]
     },
     "metadata": {
      "needs_background": "light"
     },
     "output_type": "display_data"
    }
   ],
   "source": [
    "fig = plt.figure(figsize=(13, 12))\n",
    "fig.suptitle('Spacecraft Orbit, Magnetic Field, and JunoCam Image Data', fontsize=20)\n",
    "\n",
    "gs_top  = plt.GridSpec(5, 2, hspace=0, wspace=0.3, right=0.7)\n",
    "gs_bottom = plt.GridSpec(4, 1, hspace=0.1, wspace=0.0, right=0.7)\n",
    "\n",
    "#add subplots\n",
    "ax2 = fig.add_subplot(gs_bottom[2, :])\n",
    "ax3 = fig.add_subplot(gs_bottom[3, :])\n",
    "ax4 = fig.add_subplot(gs_top[0, 0])\n",
    "ax5 = fig.add_subplot(gs_top[1, 0])\n",
    "\n",
    "\n",
    "ax2.plot(data_FGM.index, \n",
    "         data_FGM['B_MAG_nT'], \n",
    "         marker = '.', \n",
    "         color = '#2b4c6e', \n",
    "         label = 'B$_{Magnitude}$')\n",
    "\n",
    "ax2.fill_between(data_FGM.index, \n",
    "                 data_FGM['B_MAG_nT'] - data_FGM['std'], \n",
    "                 data_FGM['std'] + data_FGM['B_MAG_nT'], \n",
    "                 alpha = 0.2, \n",
    "                 color = '#2b4c6e')\n",
    "\n",
    "ax2.axhline(y=0.0, color = 'k', linestyle = '--')\n",
    "\n",
    "\n",
    "\n",
    "#setting labeling\n",
    "ax2.set_title('Magnetic Field - Sun-State Coordinates', fontsize = 16)\n",
    "\n",
    "\n",
    "ax2.tick_params(labelsize = 14)\n",
    "#set up the grid\n",
    "ax2.grid(color = 'gray', linestyle = 'dashed')\n",
    "ax2.set_xticklabels([])\n",
    "\n",
    "\n",
    "#SET FORMAT\n",
    "ax3.xaxis.set_major_formatter(mdt.DateFormatter('%Y-%j'))\n",
    "ax3.set_xlabel('YYYY DOY (UT)', fontsize = 18)\n",
    "\n",
    "#set up the grid\n",
    "ax2.grid(color = 'gray', linestyle = 'dashed')\n",
    "\n",
    "\n",
    "ax3.plot(data_FGM.index, \n",
    "         data_FGM['B_X'], \n",
    "         marker = '.', \n",
    "         color = '#ac7cc9', \n",
    "         label = 'B$_{X}$')\n",
    "\n",
    "ax3.plot(data_FGM.index, \n",
    "         data_FGM['B_Y'], \n",
    "         marker = '.', \n",
    "         color = '#c9ac7c', \n",
    "         label = 'B$_{Y}$')\n",
    "\n",
    "ax3.plot(data_FGM.index, \n",
    "         data_FGM['B_Z'], \n",
    "         marker = '.', \n",
    "         color = '#7cc9ac', \n",
    "         label = 'B$_{Z}$')\n",
    "\n",
    "ax4.plot(data_FGM['POS_Z_RJ'], \n",
    "         data_FGM['POS_X_RJ'], \n",
    "         marker = '.', \n",
    "         color = '#5c3566')\n",
    "\n",
    "ax5.plot(data_FGM['POS_Z_RJ'], \n",
    "         data_FGM['POS_Y_RJ'], \n",
    "         marker = '.', \n",
    "         color = '#b98a4d')\n",
    "\n",
    "#make start of spacecraft location obvious\n",
    "ax4.plot(data_FGM['POS_Z_RJ'].iat[0], \n",
    "         data_FGM['POS_X_RJ'].iat[0], \n",
    "         marker='3', \n",
    "         color='k', \n",
    "         markersize=40)\n",
    "\n",
    "ax5.plot(data_FGM['POS_Z_RJ'].iat[0], \n",
    "         data_FGM['POS_Y_RJ'].iat[0], \n",
    "         marker='3', \n",
    "         color='k', \n",
    "         markersize=40, \n",
    "         label = 'S/C Starting Location')\n",
    "\n",
    "#x-values\n",
    "#plot out location of Jupiter\n",
    "ax4.set_title('Juno Position \\n Sun-State Coordinate System', fontsize = 16)\n",
    "ax4.plot([0], [0], color='k', marker = 'o',  markersize = 15)\n",
    "ax5.plot([0], [0], color='k', marker = 'o',  markersize = 15)\n",
    "\n",
    "\n",
    "\n",
    "ax4.set_ylim([-35, 5])\n",
    "ax5.set_ylim([-15, 5])\n",
    "\n",
    "ax4.set_xticklabels([])\n",
    "\n",
    "ax4.set_xlim([-20, 5])\n",
    "ax5.set_xlim([-20, 5])\n",
    "\n",
    "ax4.grid()\n",
    "ax5.grid()\n",
    "\n",
    "ax4.tick_params(labelsize = 14)\n",
    "ax5.tick_params(labelsize = 14)\n",
    "\n",
    "ax4.set_ylabel('X (R$_{J}$)', fontsize = 16)\n",
    "ax5.set_xlabel('Z (R$_{J}$)', fontsize = 16)\n",
    "ax5.set_ylabel('Y (R$_{J}$)', fontsize = 16)\n",
    "\n",
    "\n",
    "ax3.axhline(y=0.0, color = 'k', linestyle = '--')\n",
    "ax2.set_ylabel('Magnetic Field \\n Magnitude (nT)', fontsize = 16)\n",
    "ax3.set_ylabel('Magnetic Field \\n Components (nT)',      fontsize = 16)\n",
    "ax3.set_xlabel('YYYY DOY (UT)', fontsize = 16)\n",
    "\n",
    "\n",
    "\n",
    "ax3.legend(bbox_to_anchor = (1.02, 1.16), prop={'size':14})\n",
    "\n",
    "\n",
    "ax3.tick_params(labelsize = 14)\n",
    "#set up the grid\n",
    "ax3.grid(color = 'gray', linestyle = 'dashed')\n",
    "\n",
    "#savefigure\n",
    "plt.savefig('./Images/JunoCam_MagData_{:%Y-%j-%H-%M}.png'.format(data_FGM.index[0]), \n",
    "            dpi=300, bbox_inches='tight')"
   ]
  },
  {
   "cell_type": "markdown",
   "metadata": {},
   "source": [
    "a)\n",
    "\n",
    "The spacecraft is at approximately -30 R_j away in the equator of Jupiter, and somewhere between -10 to 15 R_j in height. The Sun's rotation axis seems to be at approx -3 R_J. The spacecraft seems to be moving around Jupiter in a diagonal orbit, facing towards to the northeast (as seen by the vector). At these locations, the magnetic field measures were on average, between 10 to 20 nanoteslas.\n",
    "\n",
    "\n",
    "b) \n",
    "\n",
    "The standard error is a reasonable error to show on the plot in step 4 since what I plotted in the exploratory figures was a histogram. Since standard deviation would need to be calculated rather than simply gathered by the scattering of data points, for an exploratory graph, the standard error may be better. Since the explanatory graphs are unimodal in nature as well, the data points would cluster around a common mean on the three seperate days. The skew should be noted as well: for skewed distributions, the standard deviation would not give any reliable information on the asymmetry. The 1st and 3rd quartiles or the interquartile range would give a better estimate of the asymmetry and the data as a whole. The Standard error would better take care of outliers in a less data influencing way than the standard deviation would. We use the standard deviation when we want to see the range of our measurements (meaning how scattered the data is). We would instead use standard error if we want to know the uncertainty around the mean estimate. We may consider using corellation or regressions to show uncertainty, if we were to plot a scatterplot of certain datapoints. The correlation would show us the relationship between variables and how sure we are of that relationship. The linear regression line would allow us to get estimates and know how uncertain those estimates could be to the general real value. "
   ]
  },
  {
   "cell_type": "code",
   "execution_count": null,
   "metadata": {},
   "outputs": [],
   "source": []
  }
 ],
 "metadata": {
  "kernelspec": {
   "display_name": "Python 3",
   "language": "python",
   "name": "python3"
  },
  "language_info": {
   "codemirror_mode": {
    "name": "ipython",
    "version": 3
   },
   "file_extension": ".py",
   "mimetype": "text/x-python",
   "name": "python",
   "nbconvert_exporter": "python",
   "pygments_lexer": "ipython3",
   "version": "3.8.5"
  }
 },
 "nbformat": 4,
 "nbformat_minor": 4
}
