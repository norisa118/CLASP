{
 "cells": [
  {
   "cell_type": "markdown",
   "metadata": {},
   "source": [
    "# Global Warming's Effect on Crop Growth\n",
    "\n",
    "## *Analyzing Global Temperatures Divergence's Effects on Crop Sales from 1880 - 2018*\n",
    "\n",
    "By: Neha Satish\n",
    "\n",
    "This project will attempt to see whether or not we have a normal distribution of crops yielded in regards to temperature anomaly values → That is, it will try to find the trends between temperature anomoly and crops yielded for a set time period of 2007-2019 (the time periods that the data was avaliable for). \n"
   ]
  },
  {
   "cell_type": "code",
   "execution_count": 1,
   "metadata": {},
   "outputs": [],
   "source": [
    "#import required packages for this lab.\n",
    "\n",
    "import numpy as np                              #for accuracy \n",
    "import datetime as dt                           #for datetime objects\n",
    "import matplotlib.pyplot as plt                 #for pretty plotting\n",
    "import pandas as pd                             #for data structures\n",
    "import scipy as sc\n",
    "from scipy import stats                         #for linear regression\n",
    "from scipy.optimize import curve_fit            #for non-linear fitting\n",
    "from scipy.stats import kurtosis, skew\n",
    "import matplotlib.dates as mdt                  #for manipulation of dates in matplotlib\n",
    "from matplotlib.ticker import MultipleLocator   #for pretty plotting\n",
    "import matplotlib.image as mpimg                #for manipulation of img files\n",
    "                                                #in plotting environments\n",
    "import math\n",
    "import importlib                                #for reimporting libaries / package\n",
    "import linerror as lr                           #same as Lab6 - for calculating linear fits       \n",
    "from matplotlib.patches import Rectangle        #for plotting rectangles                                          \n",
    "import omni_data_functions as omni_fn           #for easy importing\n",
    "from sklearn.metrics import confusion_matrix    #for confusion matrix\n",
    "\n",
    "from numpy import arange\n",
    "from pandas import read_csv\n",
    "from matplotlib import pyplot\n",
    "from numpy import linspace\n",
    "import statsmodels.api as sm\n",
    "from statsmodels.formula.api import ols\n",
    "                                               \n",
    "    \n",
    "#for plotting in notebook\n",
    "%matplotlib inline"
   ]
  },
  {
   "cell_type": "markdown",
   "metadata": {},
   "source": [
    "# Reading in data from files:\n",
    "\n",
    "The first dataset, 'tempAnom.csv', contains global temperature anomaly data from the US for specifically above-ground (land) from 1920 to 2020. The first comlumn simply lists the year, while the second column follows with the temperature anomoly for the corresponding year.\n",
    "\n",
    "The second dataset, 'cropData.csv', contains census data about crop sales in different states of the United States from 2007 to 2019. In this project, we will mainly be focusing on the crop sales within a year corresponding to dataset 1, which is located in the 'Value\" colum in dataset 2. Although data from 1920 to 2020 to match the time range from dataset 1 would have been preferred, this data was not avaliable.  21 columns exist, of which many will be removed. \n"
   ]
  },
  {
   "cell_type": "code",
   "execution_count": 2,
   "metadata": {},
   "outputs": [],
   "source": [
    "# Reading in Dataset 1, from: \n",
    "# https://www.ncdc.noaa.gov/cag/time-series/global/globe/land/ytd/12/1920-2020\n",
    "# Provided by NOAA National Center for Environmental Information and provided as a reference in the Project 1 Description\n",
    "temp_land_df = pd.read_csv('./tempAnom.csv', header=4)\n",
    "\n",
    "# Reading in Dataset 2, from: \n",
    "# https://quickstats.nass.usda.gov/#8E38D266-8FDF-30BE-945E-8F66A438621D\n",
    "# Provided by USDA National Agricultural Statistics Service and provided as a reference in the Project 1 Description\n",
    "crop_data_df = pd.read_csv('./cropData.csv')\n"
   ]
  },
  {
   "cell_type": "code",
   "execution_count": 3,
   "metadata": {},
   "outputs": [
    {
     "name": "stdout",
     "output_type": "stream",
     "text": [
      "<class 'pandas.core.frame.DataFrame'>\n",
      "<class 'pandas.core.frame.DataFrame'>\n"
     ]
    },
    {
     "data": {
      "text/html": [
       "<div>\n",
       "<style scoped>\n",
       "    .dataframe tbody tr th:only-of-type {\n",
       "        vertical-align: middle;\n",
       "    }\n",
       "\n",
       "    .dataframe tbody tr th {\n",
       "        vertical-align: top;\n",
       "    }\n",
       "\n",
       "    .dataframe thead th {\n",
       "        text-align: right;\n",
       "    }\n",
       "</style>\n",
       "<table border=\"1\" class=\"dataframe\">\n",
       "  <thead>\n",
       "    <tr style=\"text-align: right;\">\n",
       "      <th></th>\n",
       "      <th>Year</th>\n",
       "      <th>Value</th>\n",
       "    </tr>\n",
       "  </thead>\n",
       "  <tbody>\n",
       "    <tr>\n",
       "      <th>0</th>\n",
       "      <td>1920</td>\n",
       "      <td>-0.35</td>\n",
       "    </tr>\n",
       "    <tr>\n",
       "      <th>1</th>\n",
       "      <td>1921</td>\n",
       "      <td>-0.14</td>\n",
       "    </tr>\n",
       "    <tr>\n",
       "      <th>2</th>\n",
       "      <td>1922</td>\n",
       "      <td>-0.26</td>\n",
       "    </tr>\n",
       "    <tr>\n",
       "      <th>3</th>\n",
       "      <td>1923</td>\n",
       "      <td>-0.28</td>\n",
       "    </tr>\n",
       "    <tr>\n",
       "      <th>4</th>\n",
       "      <td>1924</td>\n",
       "      <td>-0.24</td>\n",
       "    </tr>\n",
       "    <tr>\n",
       "      <th>...</th>\n",
       "      <td>...</td>\n",
       "      <td>...</td>\n",
       "    </tr>\n",
       "    <tr>\n",
       "      <th>96</th>\n",
       "      <td>2016</td>\n",
       "      <td>1.53</td>\n",
       "    </tr>\n",
       "    <tr>\n",
       "      <th>97</th>\n",
       "      <td>2017</td>\n",
       "      <td>1.41</td>\n",
       "    </tr>\n",
       "    <tr>\n",
       "      <th>98</th>\n",
       "      <td>2018</td>\n",
       "      <td>1.22</td>\n",
       "    </tr>\n",
       "    <tr>\n",
       "      <th>99</th>\n",
       "      <td>2019</td>\n",
       "      <td>1.42</td>\n",
       "    </tr>\n",
       "    <tr>\n",
       "      <th>100</th>\n",
       "      <td>2020</td>\n",
       "      <td>1.58</td>\n",
       "    </tr>\n",
       "  </tbody>\n",
       "</table>\n",
       "<p>101 rows × 2 columns</p>\n",
       "</div>"
      ],
      "text/plain": [
       "     Year  Value\n",
       "0    1920  -0.35\n",
       "1    1921  -0.14\n",
       "2    1922  -0.26\n",
       "3    1923  -0.28\n",
       "4    1924  -0.24\n",
       "..    ...    ...\n",
       "96   2016   1.53\n",
       "97   2017   1.41\n",
       "98   2018   1.22\n",
       "99   2019   1.42\n",
       "100  2020   1.58\n",
       "\n",
       "[101 rows x 2 columns]"
      ]
     },
     "execution_count": 3,
     "metadata": {},
     "output_type": "execute_result"
    }
   ],
   "source": [
    "#checking in that both files have been read in correctly: \n",
    "# type check:\n",
    "print(type(temp_land_df))\n",
    "print(type(crop_data_df))\n",
    "\n",
    "temp_land_df\n"
   ]
  },
  {
   "cell_type": "code",
   "execution_count": 4,
   "metadata": {},
   "outputs": [
    {
     "data": {
      "text/html": [
       "<div>\n",
       "<style scoped>\n",
       "    .dataframe tbody tr th:only-of-type {\n",
       "        vertical-align: middle;\n",
       "    }\n",
       "\n",
       "    .dataframe tbody tr th {\n",
       "        vertical-align: top;\n",
       "    }\n",
       "\n",
       "    .dataframe thead th {\n",
       "        text-align: right;\n",
       "    }\n",
       "</style>\n",
       "<table border=\"1\" class=\"dataframe\">\n",
       "  <thead>\n",
       "    <tr style=\"text-align: right;\">\n",
       "      <th></th>\n",
       "      <th>Program</th>\n",
       "      <th>Year</th>\n",
       "      <th>Period</th>\n",
       "      <th>Week Ending</th>\n",
       "      <th>Geo Level</th>\n",
       "      <th>State</th>\n",
       "      <th>State ANSI</th>\n",
       "      <th>Ag District</th>\n",
       "      <th>Ag District Code</th>\n",
       "      <th>County</th>\n",
       "      <th>...</th>\n",
       "      <th>Zip Code</th>\n",
       "      <th>Region</th>\n",
       "      <th>watershed_code</th>\n",
       "      <th>Watershed</th>\n",
       "      <th>Commodity</th>\n",
       "      <th>Data Item</th>\n",
       "      <th>Domain</th>\n",
       "      <th>Domain Category</th>\n",
       "      <th>Value</th>\n",
       "      <th>CV (%)</th>\n",
       "    </tr>\n",
       "  </thead>\n",
       "  <tbody>\n",
       "    <tr>\n",
       "      <th>0</th>\n",
       "      <td>CENSUS</td>\n",
       "      <td>2019</td>\n",
       "      <td>YEAR</td>\n",
       "      <td>NaN</td>\n",
       "      <td>NATIONAL</td>\n",
       "      <td>US TOTAL</td>\n",
       "      <td>NaN</td>\n",
       "      <td>NaN</td>\n",
       "      <td>NaN</td>\n",
       "      <td>NaN</td>\n",
       "      <td>...</td>\n",
       "      <td>NaN</td>\n",
       "      <td>NaN</td>\n",
       "      <td>0</td>\n",
       "      <td>NaN</td>\n",
       "      <td>CROP TOTALS</td>\n",
       "      <td>CROP TOTALS, ORGANIC - SALES, MEASURED IN $</td>\n",
       "      <td>ORGANIC STATUS</td>\n",
       "      <td>ORGANIC STATUS: (NOP USDA CERTIFIED)</td>\n",
       "      <td>5,786,759,000</td>\n",
       "      <td>6.2</td>\n",
       "    </tr>\n",
       "    <tr>\n",
       "      <th>1</th>\n",
       "      <td>CENSUS</td>\n",
       "      <td>2019</td>\n",
       "      <td>YEAR</td>\n",
       "      <td>NaN</td>\n",
       "      <td>STATE</td>\n",
       "      <td>ALABAMA</td>\n",
       "      <td>1.0</td>\n",
       "      <td>NaN</td>\n",
       "      <td>NaN</td>\n",
       "      <td>NaN</td>\n",
       "      <td>...</td>\n",
       "      <td>NaN</td>\n",
       "      <td>NaN</td>\n",
       "      <td>0</td>\n",
       "      <td>NaN</td>\n",
       "      <td>CROP TOTALS</td>\n",
       "      <td>CROP TOTALS, ORGANIC - SALES, MEASURED IN $</td>\n",
       "      <td>ORGANIC STATUS</td>\n",
       "      <td>ORGANIC STATUS: (NOP USDA CERTIFIED)</td>\n",
       "      <td>392,000</td>\n",
       "      <td>23.2</td>\n",
       "    </tr>\n",
       "    <tr>\n",
       "      <th>2</th>\n",
       "      <td>CENSUS</td>\n",
       "      <td>2019</td>\n",
       "      <td>YEAR</td>\n",
       "      <td>NaN</td>\n",
       "      <td>STATE</td>\n",
       "      <td>ALASKA</td>\n",
       "      <td>2.0</td>\n",
       "      <td>NaN</td>\n",
       "      <td>NaN</td>\n",
       "      <td>NaN</td>\n",
       "      <td>...</td>\n",
       "      <td>NaN</td>\n",
       "      <td>NaN</td>\n",
       "      <td>0</td>\n",
       "      <td>NaN</td>\n",
       "      <td>CROP TOTALS</td>\n",
       "      <td>CROP TOTALS, ORGANIC - SALES, MEASURED IN $</td>\n",
       "      <td>ORGANIC STATUS</td>\n",
       "      <td>ORGANIC STATUS: (NOP USDA CERTIFIED)</td>\n",
       "      <td>(D)</td>\n",
       "      <td>(D)</td>\n",
       "    </tr>\n",
       "    <tr>\n",
       "      <th>3</th>\n",
       "      <td>CENSUS</td>\n",
       "      <td>2019</td>\n",
       "      <td>YEAR</td>\n",
       "      <td>NaN</td>\n",
       "      <td>STATE</td>\n",
       "      <td>ARIZONA</td>\n",
       "      <td>4.0</td>\n",
       "      <td>NaN</td>\n",
       "      <td>NaN</td>\n",
       "      <td>NaN</td>\n",
       "      <td>...</td>\n",
       "      <td>NaN</td>\n",
       "      <td>NaN</td>\n",
       "      <td>0</td>\n",
       "      <td>NaN</td>\n",
       "      <td>CROP TOTALS</td>\n",
       "      <td>CROP TOTALS, ORGANIC - SALES, MEASURED IN $</td>\n",
       "      <td>ORGANIC STATUS</td>\n",
       "      <td>ORGANIC STATUS: (NOP USDA CERTIFIED)</td>\n",
       "      <td>(D)</td>\n",
       "      <td>(D)</td>\n",
       "    </tr>\n",
       "    <tr>\n",
       "      <th>4</th>\n",
       "      <td>CENSUS</td>\n",
       "      <td>2019</td>\n",
       "      <td>YEAR</td>\n",
       "      <td>NaN</td>\n",
       "      <td>STATE</td>\n",
       "      <td>ARKANSAS</td>\n",
       "      <td>5.0</td>\n",
       "      <td>NaN</td>\n",
       "      <td>NaN</td>\n",
       "      <td>NaN</td>\n",
       "      <td>...</td>\n",
       "      <td>NaN</td>\n",
       "      <td>NaN</td>\n",
       "      <td>0</td>\n",
       "      <td>NaN</td>\n",
       "      <td>CROP TOTALS</td>\n",
       "      <td>CROP TOTALS, ORGANIC - SALES, MEASURED IN $</td>\n",
       "      <td>ORGANIC STATUS</td>\n",
       "      <td>ORGANIC STATUS: (NOP USDA CERTIFIED)</td>\n",
       "      <td>18,853,000</td>\n",
       "      <td>23.2</td>\n",
       "    </tr>\n",
       "  </tbody>\n",
       "</table>\n",
       "<p>5 rows × 21 columns</p>\n",
       "</div>"
      ],
      "text/plain": [
       "  Program  Year Period  Week Ending Geo Level     State  State ANSI  \\\n",
       "0  CENSUS  2019   YEAR          NaN  NATIONAL  US TOTAL         NaN   \n",
       "1  CENSUS  2019   YEAR          NaN     STATE   ALABAMA         1.0   \n",
       "2  CENSUS  2019   YEAR          NaN     STATE    ALASKA         2.0   \n",
       "3  CENSUS  2019   YEAR          NaN     STATE   ARIZONA         4.0   \n",
       "4  CENSUS  2019   YEAR          NaN     STATE  ARKANSAS         5.0   \n",
       "\n",
       "  Ag District  Ag District Code County  ...  Zip Code  Region watershed_code  \\\n",
       "0         NaN               NaN    NaN  ...       NaN     NaN              0   \n",
       "1         NaN               NaN    NaN  ...       NaN     NaN              0   \n",
       "2         NaN               NaN    NaN  ...       NaN     NaN              0   \n",
       "3         NaN               NaN    NaN  ...       NaN     NaN              0   \n",
       "4         NaN               NaN    NaN  ...       NaN     NaN              0   \n",
       "\n",
       "   Watershed    Commodity                                    Data Item  \\\n",
       "0        NaN  CROP TOTALS  CROP TOTALS, ORGANIC - SALES, MEASURED IN $   \n",
       "1        NaN  CROP TOTALS  CROP TOTALS, ORGANIC - SALES, MEASURED IN $   \n",
       "2        NaN  CROP TOTALS  CROP TOTALS, ORGANIC - SALES, MEASURED IN $   \n",
       "3        NaN  CROP TOTALS  CROP TOTALS, ORGANIC - SALES, MEASURED IN $   \n",
       "4        NaN  CROP TOTALS  CROP TOTALS, ORGANIC - SALES, MEASURED IN $   \n",
       "\n",
       "           Domain                       Domain Category          Value CV (%)  \n",
       "0  ORGANIC STATUS  ORGANIC STATUS: (NOP USDA CERTIFIED)  5,786,759,000    6.2  \n",
       "1  ORGANIC STATUS  ORGANIC STATUS: (NOP USDA CERTIFIED)        392,000   23.2  \n",
       "2  ORGANIC STATUS  ORGANIC STATUS: (NOP USDA CERTIFIED)            (D)    (D)  \n",
       "3  ORGANIC STATUS  ORGANIC STATUS: (NOP USDA CERTIFIED)            (D)    (D)  \n",
       "4  ORGANIC STATUS  ORGANIC STATUS: (NOP USDA CERTIFIED)     18,853,000   23.2  \n",
       "\n",
       "[5 rows x 21 columns]"
      ]
     },
     "execution_count": 4,
     "metadata": {},
     "output_type": "execute_result"
    }
   ],
   "source": [
    "# checking the first 5 rows of crop data:\n",
    "crop_data_df.head()"
   ]
  },
  {
   "cell_type": "markdown",
   "metadata": {},
   "source": [
    "# Cleaning and Boolean Indexing: \n",
    "\n",
    "Overall Summay of Parts:\n",
    "1. Deleted most columns in crop_data_df\n",
    "2. replace all (D)'s with NaN values, delta all NaN vals \n",
    "3. Made a boolean index between 2007 and 2019 for new_land_df\n",
    "4. Convert crop object value to int, remove commas → column called “added” \n",
    "5. Removing ','\n"
   ]
  },
  {
   "cell_type": "code",
   "execution_count": 5,
   "metadata": {},
   "outputs": [
    {
     "name": "stdout",
     "output_type": "stream",
     "text": [
      "   Year Geo Level     State          Value\n",
      "0  2019  NATIONAL  US TOTAL  5,786,759,000\n",
      "1  2019     STATE   ALABAMA        392,000\n",
      "2  2019     STATE    ALASKA            (D)\n",
      "3  2019     STATE   ARIZONA            (D)\n",
      "4  2019     STATE  ARKANSAS     18,853,000\n"
     ]
    }
   ],
   "source": [
    "# 1. dropping columns that will not be used from crop data to make the dataset more readable: \n",
    "\n",
    "crop_data_df = crop_data_df.drop(['Program', 'Period', 'Week Ending', 'State ANSI', 'Ag District', 'Ag District Code', 'County ANSI',\n",
    "                                 'County', 'Zip Code', 'Region', 'watershed_code', 'Watershed', 'Commodity', 'Data Item', \n",
    "                                  'Domain', 'Domain Category', 'CV (%)'], axis=1)\n",
    "print(crop_data_df.head())\n"
   ]
  },
  {
   "cell_type": "code",
   "execution_count": 6,
   "metadata": {},
   "outputs": [],
   "source": [
    "# 2 . replace all (D)'s with NaN values:\n",
    "\n",
    "crop_data_df = crop_data_df.replace(['(D)', ' (D)', ' (Z)'], np.NaN)\n",
    "\n",
    "# dropping NaN's:\n",
    "crop_data_df = crop_data_df.dropna()"
   ]
  },
  {
   "cell_type": "code",
   "execution_count": 7,
   "metadata": {},
   "outputs": [],
   "source": [
    "# 3 . creating a boolean index for temp_land_df to match avaliable years of data in crop_data\n",
    "\n",
    "bool_index = (temp_land_df['Year'] > 2006) & (temp_land_df['Year']  < 2109)\n",
    "new_land_df = temp_land_df[bool_index] # selects the \"True\" rows recorded in the boolean index"
   ]
  },
  {
   "cell_type": "code",
   "execution_count": 8,
   "metadata": {},
   "outputs": [],
   "source": [
    "# 4 . Writing a function to convert object Value to integer Value \n",
    "def convert_obj(x):\n",
    "    return int(x)\n"
   ]
  },
  {
   "cell_type": "code",
   "execution_count": 9,
   "metadata": {},
   "outputs": [
    {
     "name": "stdout",
     "output_type": "stream",
     "text": [
      "      Year Geo Level          State       Value\n",
      "0     2019  NATIONAL       US TOTAL  5786759000\n",
      "1     2019     STATE        ALABAMA      392000\n",
      "4     2019     STATE       ARKANSAS    18853000\n",
      "5     2019     STATE     CALIFORNIA  2874463000\n",
      "6     2019     STATE       COLORADO    90438000\n",
      "...    ...       ...            ...         ...\n",
      "2282  2007     STATE  WEST VIRGINIA      222000\n",
      "2283  2007     STATE      WISCONSIN    16658000\n",
      "2284  2007     STATE      WISCONSIN    10414000\n",
      "2285  2007     STATE      WISCONSIN     6244000\n",
      "2287  2007     STATE        WYOMING     2708000\n",
      "\n",
      "[930 rows x 4 columns]\n"
     ]
    }
   ],
   "source": [
    "# 5. Removing Comma's \n",
    "crop_data_df.dtypes\n",
    "crop_data_df['Value'] = crop_data_df['Value'].str.replace(',', '')\n",
    "print(crop_data_df)"
   ]
  },
  {
   "cell_type": "code",
   "execution_count": 10,
   "metadata": {},
   "outputs": [
    {
     "data": {
      "text/html": [
       "<div>\n",
       "<style scoped>\n",
       "    .dataframe tbody tr th:only-of-type {\n",
       "        vertical-align: middle;\n",
       "    }\n",
       "\n",
       "    .dataframe tbody tr th {\n",
       "        vertical-align: top;\n",
       "    }\n",
       "\n",
       "    .dataframe thead th {\n",
       "        text-align: right;\n",
       "    }\n",
       "</style>\n",
       "<table border=\"1\" class=\"dataframe\">\n",
       "  <thead>\n",
       "    <tr style=\"text-align: right;\">\n",
       "      <th></th>\n",
       "      <th>Year</th>\n",
       "      <th>Geo Level</th>\n",
       "      <th>State</th>\n",
       "      <th>Value</th>\n",
       "      <th>added</th>\n",
       "    </tr>\n",
       "  </thead>\n",
       "  <tbody>\n",
       "    <tr>\n",
       "      <th>0</th>\n",
       "      <td>2019</td>\n",
       "      <td>NATIONAL</td>\n",
       "      <td>US TOTAL</td>\n",
       "      <td>5786759000</td>\n",
       "      <td>5786759000</td>\n",
       "    </tr>\n",
       "    <tr>\n",
       "      <th>1</th>\n",
       "      <td>2019</td>\n",
       "      <td>STATE</td>\n",
       "      <td>ALABAMA</td>\n",
       "      <td>392000</td>\n",
       "      <td>392000</td>\n",
       "    </tr>\n",
       "    <tr>\n",
       "      <th>4</th>\n",
       "      <td>2019</td>\n",
       "      <td>STATE</td>\n",
       "      <td>ARKANSAS</td>\n",
       "      <td>18853000</td>\n",
       "      <td>18853000</td>\n",
       "    </tr>\n",
       "    <tr>\n",
       "      <th>5</th>\n",
       "      <td>2019</td>\n",
       "      <td>STATE</td>\n",
       "      <td>CALIFORNIA</td>\n",
       "      <td>2874463000</td>\n",
       "      <td>2874463000</td>\n",
       "    </tr>\n",
       "    <tr>\n",
       "      <th>6</th>\n",
       "      <td>2019</td>\n",
       "      <td>STATE</td>\n",
       "      <td>COLORADO</td>\n",
       "      <td>90438000</td>\n",
       "      <td>90438000</td>\n",
       "    </tr>\n",
       "  </tbody>\n",
       "</table>\n",
       "</div>"
      ],
      "text/plain": [
       "   Year Geo Level       State       Value       added\n",
       "0  2019  NATIONAL    US TOTAL  5786759000  5786759000\n",
       "1  2019     STATE     ALABAMA      392000      392000\n",
       "4  2019     STATE    ARKANSAS    18853000    18853000\n",
       "5  2019     STATE  CALIFORNIA  2874463000  2874463000\n",
       "6  2019     STATE    COLORADO    90438000    90438000"
      ]
     },
     "execution_count": 10,
     "metadata": {},
     "output_type": "execute_result"
    }
   ],
   "source": [
    "# Calling fnc that converts object into int and changing object values into 'added' Value col of ints \n",
    "crop_data_df['Value']\n",
    "crop_data_df['added'] = crop_data_df['Value'].apply(convert_obj)\n",
    "crop_data_df.head()"
   ]
  },
  {
   "cell_type": "markdown",
   "metadata": {},
   "source": [
    "# Calculating Mean, Median, Mode, STD, IQR"
   ]
  },
  {
   "cell_type": "code",
   "execution_count": 11,
   "metadata": {},
   "outputs": [
    {
     "data": {
      "text/plain": [
       "1.1942857142857142"
      ]
     },
     "execution_count": 11,
     "metadata": {},
     "output_type": "execute_result"
    }
   ],
   "source": [
    "new_land_df.Value.mean()"
   ]
  },
  {
   "cell_type": "code",
   "execution_count": 12,
   "metadata": {},
   "outputs": [
    {
     "data": {
      "text/plain": [
       "49135360.69247312"
      ]
     },
     "execution_count": 12,
     "metadata": {},
     "output_type": "execute_result"
    }
   ],
   "source": [
    "crop_data_df.added.mean()"
   ]
  },
  {
   "cell_type": "code",
   "execution_count": 13,
   "metadata": {},
   "outputs": [
    {
     "data": {
      "text/plain": [
       "1.1549999999999998"
      ]
     },
     "execution_count": 13,
     "metadata": {},
     "output_type": "execute_result"
    }
   ],
   "source": [
    "new_land_df.Value.median()"
   ]
  },
  {
   "cell_type": "code",
   "execution_count": 14,
   "metadata": {},
   "outputs": [
    {
     "data": {
      "text/plain": [
       "538000.0"
      ]
     },
     "execution_count": 14,
     "metadata": {},
     "output_type": "execute_result"
    }
   ],
   "source": [
    "crop_data_df.added.median()"
   ]
  },
  {
   "cell_type": "code",
   "execution_count": 15,
   "metadata": {},
   "outputs": [
    {
     "data": {
      "text/plain": [
       "0    1.42\n",
       "dtype: float64"
      ]
     },
     "execution_count": 15,
     "metadata": {},
     "output_type": "execute_result"
    }
   ],
   "source": [
    "new_land_df.Value.mode()"
   ]
  },
  {
   "cell_type": "code",
   "execution_count": 16,
   "metadata": {},
   "outputs": [
    {
     "data": {
      "text/plain": [
       "0    2000\n",
       "dtype: int64"
      ]
     },
     "execution_count": 16,
     "metadata": {},
     "output_type": "execute_result"
    }
   ],
   "source": [
    "crop_data_df.added.mode()"
   ]
  },
  {
   "cell_type": "code",
   "execution_count": 17,
   "metadata": {},
   "outputs": [
    {
     "data": {
      "text/plain": [
       "0.23705612077228544"
      ]
     },
     "execution_count": 17,
     "metadata": {},
     "output_type": "execute_result"
    }
   ],
   "source": [
    "new_land_df.Value.std()"
   ]
  },
  {
   "cell_type": "code",
   "execution_count": 18,
   "metadata": {},
   "outputs": [
    {
     "data": {
      "text/plain": [
       "338050300.7996831"
      ]
     },
     "execution_count": 18,
     "metadata": {},
     "output_type": "execute_result"
    }
   ],
   "source": [
    "crop_data_df.added.std()"
   ]
  },
  {
   "cell_type": "code",
   "execution_count": 19,
   "metadata": {},
   "outputs": [
    {
     "data": {
      "text/plain": [
       "0.4225"
      ]
     },
     "execution_count": 19,
     "metadata": {},
     "output_type": "execute_result"
    }
   ],
   "source": [
    "q75, q25 = np.percentile(new_land_df['Value'], [75 ,25])\n",
    "iqr = q75 - q25\n",
    "iqr"
   ]
  },
  {
   "cell_type": "code",
   "execution_count": 20,
   "metadata": {},
   "outputs": [
    {
     "data": {
      "text/plain": [
       "8024830.25"
      ]
     },
     "execution_count": 20,
     "metadata": {},
     "output_type": "execute_result"
    }
   ],
   "source": [
    "q75, q25 = np.percentile(crop_data_df['added'], [75 ,25])\n",
    "iqr = q75 - q25\n",
    "iqr"
   ]
  },
  {
   "cell_type": "markdown",
   "metadata": {},
   "source": [
    "# Histogram Plotting\n",
    "\n",
    "Below, we make histograms for crop_data_df in three ways: \n",
    "1. To represent the total distribution of data for all given years in a logarithmic scaled method \n",
    "2. To represent the earlier half of the data distribution in a logarithmic scaled method\n",
    "3. To represent the later half of the data distribution in a logarithmic scaled method\n",
    "\n",
    "Anomaly Value Frequency is also represented as a histogram once."
   ]
  },
  {
   "cell_type": "code",
   "execution_count": 21,
   "metadata": {},
   "outputs": [
    {
     "name": "stdout",
     "output_type": "stream",
     "text": [
      "3.0\n",
      "9.762435395764344\n",
      "[1.00000000e+03 1.71075346e+03 2.92667741e+03 5.00682350e+03\n",
      " 8.56544064e+03 1.46533572e+04 2.50682816e+04 4.28856495e+04\n",
      " 7.33667734e+04 1.25512462e+05 2.14720878e+05 3.67334485e+05\n",
      " 6.28418742e+05 1.07506954e+06 1.83917894e+06 3.14638173e+06\n",
      " 5.38268344e+06 9.20844432e+06 1.57533780e+07 2.69501459e+07\n",
      " 4.61050555e+07 7.88743832e+07 1.34934624e+08 2.30839875e+08\n",
      " 3.94910116e+08 6.75593848e+08 1.15577451e+09 1.97724525e+09\n",
      " 3.38257916e+09 5.78675900e+09]\n"
     ]
    },
    {
     "data": {
      "image/png": "[encoded data removed]",
      "text/plain": [
       "<Figure size 792x504 with 1 Axes>"
      ]
     },
     "metadata": {
      "needs_background": "light"
     },
     "output_type": "display_data"
    }
   ],
   "source": [
    "#Set up the figure.\n",
    "\n",
    "min_value = np.log10(crop_data_df['added'].min())\n",
    "max_value = np.log10(crop_data_df['added'].max())\n",
    "\n",
    "bins = 10**np.linspace(min_value, max_value, int(np.sqrt(len(crop_data_df['added']))))\n",
    "\n",
    "fig = plt.figure(figsize=(11, 7))\n",
    "fig.suptitle('Histogram of Crop Yield from 2007-2019', \n",
    "             fontsize=20)\n",
    "values, bins, _ = plt.hist(crop_data_df['added'], bins = bins)\n",
    "\n",
    "print(min_value)\n",
    "print(max_value)\n",
    "print(bins)\n",
    "\n",
    "#set up grid, again zorder sets the location of the dashed grid below the \n",
    "#histogram\n",
    "plt.grid(color='gray', linestyle='dashed', zorder=0)\n",
    "plt.xscale('log')\n",
    "\n",
    "#labels\n",
    "plt.xlabel('Crop_Yield', fontsize=20)\n",
    "plt.ylabel('Frequency', fontsize=20)\n",
    "#large ticks\n",
    "plt.xticks(fontsize=16) #make the xaxis labels larger\n",
    "plt.yticks(fontsize=16); #make the yaxis labels larger, the semicolon surpresses the Jupyter output"
   ]
  },
  {
   "cell_type": "code",
   "execution_count": 22,
   "metadata": {},
   "outputs": [
    {
     "name": "stdout",
     "output_type": "stream",
     "text": [
      "     Year  Value\n",
      "87   2007   1.14\n",
      "88   2008   0.91\n",
      "89   2009   0.92\n",
      "90   2010   1.17\n",
      "91   2011   0.93\n",
      "92   2012   0.98\n",
      "93   2013   1.05\n",
      "94   2014   1.04\n",
      "95   2015   1.42\n",
      "96   2016   1.53\n",
      "97   2017   1.41\n",
      "98   2018   1.22\n",
      "99   2019   1.42\n",
      "100  2020   1.58\n"
     ]
    },
    {
     "data": {
      "image/png": "[encoded data removed]",
      "text/plain": [
       "<Figure size 792x504 with 1 Axes>"
      ]
     },
     "metadata": {
      "needs_background": "light"
     },
     "output_type": "display_data"
    }
   ],
   "source": [
    "#Set up the figure.\n",
    "fig = plt.figure(figsize=(11, 7))\n",
    "fig.suptitle('Histogram of Anomaly Changes from 2007-2019', \n",
    "             fontsize=20)\n",
    "\n",
    "print(new_land_df)\n",
    "\n",
    "plt.hist(new_land_df['Value'])\n",
    "\n",
    "#set up grid, again zorder sets the location of the dashed grid below the \n",
    "#histogram\n",
    "plt.grid(color='gray', linestyle='dashed', zorder=0)\n",
    "\n",
    "#labels\n",
    "plt.xlabel('Anomaly Value', fontsize=20)\n",
    "plt.ylabel('Frequency', fontsize=20)\n",
    "#large ticks\n",
    "plt.xticks(fontsize=16) #make the xaxis labels larger\n",
    "plt.yticks(fontsize=16); #make the yaxis labels larger, the semicolon surpresses the Jupyter output"
   ]
  },
  {
   "cell_type": "markdown",
   "metadata": {},
   "source": [
    "# Setting up Datetime Indexing for Skew/ Kurtosis\n",
    "\n",
    "The skew and kurtosis need a datetime index, so I created a dt index between 2007 and 2019 for both crop_Data_df and new_land_df.\n"
   ]
  },
  {
   "cell_type": "code",
   "execution_count": 23,
   "metadata": {},
   "outputs": [],
   "source": [
    "new_land_df.index  = pd.to_datetime(new_land_df['Year'], infer_datetime_format=False, \n",
    "                                   format='%Y')\n",
    "\n",
    "#Set up date indexing.\n",
    "start_date = dt.datetime(2007, 1, 1)\n",
    "end_date = dt.datetime(2019, 1, 1)\n",
    "\n",
    "# This creates and index that we can use to slice our data based on the boolean criteria.\n",
    "idx = ((new_land_df.index >= start_date) \n",
    "              & (new_land_df.index <= end_date) \n",
    "             )\n",
    "\n",
    "sample_size = len(new_land_df.loc[idx, :])\n",
    "num_bins = int(np.ceil(np.sqrt(sample_size)))"
   ]
  },
  {
   "cell_type": "code",
   "execution_count": 24,
   "metadata": {},
   "outputs": [],
   "source": [
    "crop_data_df.index  = pd.to_datetime(crop_data_df['Year'], infer_datetime_format=False, \n",
    "                                   format='%Y')\n",
    "#Set up date indexing.\n",
    "start_date_present = dt.datetime(2007, 1, 1)\n",
    "end_date_present = dt.datetime(2019, 1, 1)\n",
    "\n",
    "\n",
    "# This creates and index that we can use to slice our data based on the boolean criteria.\n",
    "idx_crop_present = ((crop_data_df.index >= start_date_present) \n",
    "              & (crop_data_df.index <= end_date_present) \n",
    "             )\n",
    "\n",
    "\n",
    "sample_size = len(crop_data_df.loc[idx_crop_present, :])\n",
    "num_bins = int(np.ceil(np.sqrt(sample_size)))"
   ]
  },
  {
   "cell_type": "code",
   "execution_count": null,
   "metadata": {},
   "outputs": [],
   "source": []
  },
  {
   "cell_type": "code",
   "execution_count": 25,
   "metadata": {},
   "outputs": [
    {
     "name": "stdout",
     "output_type": "stream",
     "text": [
      "Skew: 0.36, Kurtosis: 1.69\n"
     ]
    }
   ],
   "source": [
    "print(\"Skew: {:.2f}, Kurtosis: {:.2f}\".format(\n",
    "        skew(new_land_df.loc[idx, 'Value']), \n",
    "        kurtosis(new_land_df.loc[idx, 'Value'], fisher=False)\n",
    "        \n",
    "       ))"
   ]
  },
  {
   "cell_type": "code",
   "execution_count": 26,
   "metadata": {},
   "outputs": [
    {
     "name": "stdout",
     "output_type": "stream",
     "text": [
      "Skew: 11.10, Kurtosis: 146.08\n"
     ]
    }
   ],
   "source": [
    "print(\"Skew: {:.2f}, Kurtosis: {:.2f}\".format(\n",
    "        skew(crop_data_df.loc[idx_crop_present, 'added']), \n",
    "        kurtosis(crop_data_df.loc[idx_crop_present, 'added'], fisher=False)\n",
    "        \n",
    "       ))\n"
   ]
  },
  {
   "cell_type": "markdown",
   "metadata": {},
   "source": [
    "# Chi^2 Test: \n",
    "If the p-value ≤ 0.05, then we reject the null hypothesis i.e. we assume the distribution of our variable is not normal/gaussian.\n",
    "If the p-value > 0.05, then we fail to reject the null hypothesis i.e. we assume the distribution of our variable is normal/gaussian."
   ]
  },
  {
   "cell_type": "code",
   "execution_count": 27,
   "metadata": {},
   "outputs": [],
   "source": [
    "# wanted to see if earlier and later time periods have differing histograms as well\n",
    "crop_data_first = pd.DataFrame(crop_data_df['added'][0:465], columns = ['added'])\n",
    "crop_data_second = pd.DataFrame(crop_data_df['added'][465:930], columns = ['added'])"
   ]
  },
  {
   "cell_type": "code",
   "execution_count": 28,
   "metadata": {},
   "outputs": [
    {
     "data": {
      "text/plain": [
       "Year\n",
       "2019-01-01    5786759000\n",
       "2019-01-01        392000\n",
       "2019-01-01      18853000\n",
       "2019-01-01    2874463000\n",
       "2019-01-01      90438000\n",
       "                 ...    \n",
       "2007-01-01        521000\n",
       "2007-01-01          4000\n",
       "2007-01-01        115000\n",
       "2007-01-01        261000\n",
       "2007-01-01        453000\n",
       "Name: added, Length: 465, dtype: int64"
      ]
     },
     "execution_count": 28,
     "metadata": {},
     "output_type": "execute_result"
    }
   ],
   "source": [
    "crop_data_first['added']"
   ]
  },
  {
   "cell_type": "code",
   "execution_count": 29,
   "metadata": {},
   "outputs": [
    {
     "data": {
      "text/plain": [
       "Year\n",
       "2007-01-01       16000\n",
       "2007-01-01      173000\n",
       "2007-01-01       88000\n",
       "2007-01-01       12000\n",
       "2007-01-01       22000\n",
       "                ...   \n",
       "2007-01-01      222000\n",
       "2007-01-01    16658000\n",
       "2007-01-01    10414000\n",
       "2007-01-01     6244000\n",
       "2007-01-01     2708000\n",
       "Name: added, Length: 465, dtype: int64"
      ]
     },
     "execution_count": 29,
     "metadata": {},
     "output_type": "execute_result"
    }
   ],
   "source": [
    "crop_data_second['added'] "
   ]
  },
  {
   "cell_type": "code",
   "execution_count": 30,
   "metadata": {},
   "outputs": [
    {
     "name": "stdout",
     "output_type": "stream",
     "text": [
      "3.0\n",
      "9.762435395764344\n",
      "[1.00000000e+03 2.17832046e+03 4.74508001e+03 1.03363048e+04\n",
      " 2.25157843e+04 4.90465935e+04 1.06839198e+05 2.32730010e+05\n",
      " 5.06960542e+05 1.10432252e+06 2.40556833e+06 5.24009871e+06\n",
      " 1.14146142e+07 2.48646876e+07 5.41632576e+07 1.17984932e+08\n",
      " 2.57008991e+08 5.59847942e+08 1.21952823e+09 2.65652328e+09\n",
      " 5.78675900e+09]\n"
     ]
    },
    {
     "data": {
      "image/png": "[encoded data removed]",
      "text/plain": [
       "<Figure size 792x504 with 1 Axes>"
      ]
     },
     "metadata": {
      "needs_background": "light"
     },
     "output_type": "display_data"
    }
   ],
   "source": [
    "#Set up the figure for later time periods \n",
    "\n",
    "min_value = np.log10(crop_data_first['added'].min())\n",
    "max_value = np.log10(crop_data_first['added'].max())\n",
    "\n",
    "bins = 10**np.linspace(min_value, max_value, int(np.sqrt(len(crop_data_first['added']))))\n",
    "\n",
    "fig = plt.figure(figsize=(11, 7))\n",
    "fig.suptitle('Histogram of Crop Return Changes for Later Half of Data', \n",
    "             fontsize=20)\n",
    "values_late, bins, _ = plt.hist(crop_data_first['added'], bins = bins)\n",
    "\n",
    "print(min_value)\n",
    "print(max_value)\n",
    "print(bins)\n",
    "\n",
    "#set up grid, again zorder sets the location of the dashed grid below the \n",
    "#histogram\n",
    "plt.grid(color='gray', linestyle='dashed', zorder=0)\n",
    "plt.xscale('log')\n",
    "\n",
    "\n",
    "#labels\n",
    "plt.xlabel('Crop Yield', fontsize=20)\n",
    "plt.ylabel('Frequency', fontsize=20)\n",
    "#large ticks\n",
    "plt.xticks(fontsize=16);\n",
    "plt.yticks(fontsize=16); #make the yaxis labels larger, the semicolon surpresses the Jupyter output\n",
    "\n",
    "plt.show()\n"
   ]
  },
  {
   "cell_type": "code",
   "execution_count": 31,
   "metadata": {},
   "outputs": [
    {
     "name": "stdout",
     "output_type": "stream",
     "text": [
      "3.0\n",
      "9.049905369897616\n",
      "[1.00000000e+03 2.00675923e+03 4.02708259e+03 8.08138515e+03\n",
      " 1.62173942e+04 3.25444055e+04 6.53087860e+04 1.31059009e+05\n",
      " 2.63003875e+05 5.27785454e+05 1.05913833e+06 2.12543561e+06\n",
      " 4.26523753e+06 8.55930477e+06 1.71764638e+07 3.44690273e+07\n",
      " 6.91710385e+07 1.38809620e+08 2.78557485e+08 5.58997804e+08\n",
      " 1.12177400e+09]\n"
     ]
    },
    {
     "data": {
      "image/png": "[encoded data removed]",
      "text/plain": [
       "<Figure size 792x504 with 1 Axes>"
      ]
     },
     "metadata": {
      "needs_background": "light"
     },
     "output_type": "display_data"
    }
   ],
   "source": [
    "#Set up the figure for earlier time periods \n",
    "\n",
    "min_value = np.log10(crop_data_second['added'].min())\n",
    "max_value = np.log10(crop_data_second['added'].max())\n",
    "\n",
    "bins = 10**np.linspace(min_value, max_value, int(np.sqrt(len(crop_data_second['added']))))\n",
    "\n",
    "fig = plt.figure(figsize=(11, 7))\n",
    "fig.suptitle('Histogram of Crop Return Changes for Earlier Half of Data', \n",
    "             fontsize=20)\n",
    "values_early, bins, _ = plt.hist(crop_data_second['added'], bins = bins)\n",
    "\n",
    "print(min_value)\n",
    "print(max_value)\n",
    "print(bins)\n",
    "\n",
    "#set up grid, again zorder sets the location of the dashed grid below the \n",
    "#histogram\n",
    "plt.grid(color='gray', linestyle='dashed', zorder=0)\n",
    "plt.xscale('log')\n",
    "\n",
    "\n",
    "\n",
    "#labels\n",
    "plt.xlabel('Crop Yield', fontsize=20)\n",
    "plt.ylabel('Frequency', fontsize=20)\n",
    "#large ticks\n",
    "plt.xticks(fontsize=16);\n",
    "plt.yticks(fontsize=16); #make the yaxis labels larger, the semicolon surpresses the Jupyter output\n"
   ]
  },
  {
   "cell_type": "code",
   "execution_count": 32,
   "metadata": {},
   "outputs": [
    {
     "name": "stdout",
     "output_type": "stream",
     "text": [
      "NormaltestResult(statistic=1585.159430597897, pvalue=0.0)\n"
     ]
    }
   ],
   "source": [
    "# Use scipy to calculate χ2 for the distribution as a whole \n",
    "chi_squared = sc.stats.normaltest(crop_data_df['added']) #automatically compares crop_data_df's added colm to a Gaussian dist.\n",
    "print(chi_squared)\n"
   ]
  },
  {
   "cell_type": "markdown",
   "metadata": {},
   "source": [
    "# Linear Reg & BOOTSTRAP METHOD: \n",
    "done to\tobtain an uncertainty on the correlation coefficient --> we produce a linear fit report on both unsampled and resampled data "
   ]
  },
  {
   "cell_type": "code",
   "execution_count": 33,
   "metadata": {},
   "outputs": [
    {
     "data": {
      "text/html": [
       "<div>\n",
       "<style scoped>\n",
       "    .dataframe tbody tr th:only-of-type {\n",
       "        vertical-align: middle;\n",
       "    }\n",
       "\n",
       "    .dataframe tbody tr th {\n",
       "        vertical-align: top;\n",
       "    }\n",
       "\n",
       "    .dataframe thead th {\n",
       "        text-align: right;\n",
       "    }\n",
       "</style>\n",
       "<table border=\"1\" class=\"dataframe\">\n",
       "  <thead>\n",
       "    <tr style=\"text-align: right;\">\n",
       "      <th></th>\n",
       "      <th>Year</th>\n",
       "      <th>added</th>\n",
       "    </tr>\n",
       "    <tr>\n",
       "      <th>Year</th>\n",
       "      <th></th>\n",
       "      <th></th>\n",
       "    </tr>\n",
       "  </thead>\n",
       "  <tbody>\n",
       "    <tr>\n",
       "      <th>2019-01-01</th>\n",
       "      <td>2019</td>\n",
       "      <td>5786759000</td>\n",
       "    </tr>\n",
       "    <tr>\n",
       "      <th>2019-01-01</th>\n",
       "      <td>2019</td>\n",
       "      <td>392000</td>\n",
       "    </tr>\n",
       "    <tr>\n",
       "      <th>2019-01-01</th>\n",
       "      <td>2019</td>\n",
       "      <td>18853000</td>\n",
       "    </tr>\n",
       "    <tr>\n",
       "      <th>2019-01-01</th>\n",
       "      <td>2019</td>\n",
       "      <td>2874463000</td>\n",
       "    </tr>\n",
       "    <tr>\n",
       "      <th>2019-01-01</th>\n",
       "      <td>2019</td>\n",
       "      <td>90438000</td>\n",
       "    </tr>\n",
       "    <tr>\n",
       "      <th>...</th>\n",
       "      <td>...</td>\n",
       "      <td>...</td>\n",
       "    </tr>\n",
       "    <tr>\n",
       "      <th>2007-01-01</th>\n",
       "      <td>2007</td>\n",
       "      <td>222000</td>\n",
       "    </tr>\n",
       "    <tr>\n",
       "      <th>2007-01-01</th>\n",
       "      <td>2007</td>\n",
       "      <td>16658000</td>\n",
       "    </tr>\n",
       "    <tr>\n",
       "      <th>2007-01-01</th>\n",
       "      <td>2007</td>\n",
       "      <td>10414000</td>\n",
       "    </tr>\n",
       "    <tr>\n",
       "      <th>2007-01-01</th>\n",
       "      <td>2007</td>\n",
       "      <td>6244000</td>\n",
       "    </tr>\n",
       "    <tr>\n",
       "      <th>2007-01-01</th>\n",
       "      <td>2007</td>\n",
       "      <td>2708000</td>\n",
       "    </tr>\n",
       "  </tbody>\n",
       "</table>\n",
       "<p>930 rows × 2 columns</p>\n",
       "</div>"
      ],
      "text/plain": [
       "            Year       added\n",
       "Year                        \n",
       "2019-01-01  2019  5786759000\n",
       "2019-01-01  2019      392000\n",
       "2019-01-01  2019    18853000\n",
       "2019-01-01  2019  2874463000\n",
       "2019-01-01  2019    90438000\n",
       "...          ...         ...\n",
       "2007-01-01  2007      222000\n",
       "2007-01-01  2007    16658000\n",
       "2007-01-01  2007    10414000\n",
       "2007-01-01  2007     6244000\n",
       "2007-01-01  2007     2708000\n",
       "\n",
       "[930 rows x 2 columns]"
      ]
     },
     "execution_count": 33,
     "metadata": {},
     "output_type": "execute_result"
    }
   ],
   "source": [
    "#Merging 2 DF's: \n",
    "\n",
    "#Step 1: Making a new df with years and crop sales from crop_Data_df: \n",
    "merged_df = crop_data_df[['Year','added']]\n",
    "merged_df"
   ]
  },
  {
   "cell_type": "code",
   "execution_count": 34,
   "metadata": {},
   "outputs": [
    {
     "data": {
      "text/html": [
       "<div>\n",
       "<style scoped>\n",
       "    .dataframe tbody tr th:only-of-type {\n",
       "        vertical-align: middle;\n",
       "    }\n",
       "\n",
       "    .dataframe tbody tr th {\n",
       "        vertical-align: top;\n",
       "    }\n",
       "\n",
       "    .dataframe thead th {\n",
       "        text-align: right;\n",
       "    }\n",
       "</style>\n",
       "<table border=\"1\" class=\"dataframe\">\n",
       "  <thead>\n",
       "    <tr style=\"text-align: right;\">\n",
       "      <th></th>\n",
       "      <th>Year</th>\n",
       "      <th>added</th>\n",
       "      <th>anom</th>\n",
       "    </tr>\n",
       "    <tr>\n",
       "      <th>Year</th>\n",
       "      <th></th>\n",
       "      <th></th>\n",
       "      <th></th>\n",
       "    </tr>\n",
       "  </thead>\n",
       "  <tbody>\n",
       "    <tr>\n",
       "      <th>2019-01-01</th>\n",
       "      <td>2019</td>\n",
       "      <td>5786759000</td>\n",
       "      <td>0</td>\n",
       "    </tr>\n",
       "    <tr>\n",
       "      <th>2019-01-01</th>\n",
       "      <td>2019</td>\n",
       "      <td>392000</td>\n",
       "      <td>0</td>\n",
       "    </tr>\n",
       "    <tr>\n",
       "      <th>2019-01-01</th>\n",
       "      <td>2019</td>\n",
       "      <td>18853000</td>\n",
       "      <td>0</td>\n",
       "    </tr>\n",
       "    <tr>\n",
       "      <th>2019-01-01</th>\n",
       "      <td>2019</td>\n",
       "      <td>2874463000</td>\n",
       "      <td>0</td>\n",
       "    </tr>\n",
       "    <tr>\n",
       "      <th>2019-01-01</th>\n",
       "      <td>2019</td>\n",
       "      <td>90438000</td>\n",
       "      <td>0</td>\n",
       "    </tr>\n",
       "    <tr>\n",
       "      <th>...</th>\n",
       "      <td>...</td>\n",
       "      <td>...</td>\n",
       "      <td>...</td>\n",
       "    </tr>\n",
       "    <tr>\n",
       "      <th>2007-01-01</th>\n",
       "      <td>2007</td>\n",
       "      <td>222000</td>\n",
       "      <td>0</td>\n",
       "    </tr>\n",
       "    <tr>\n",
       "      <th>2007-01-01</th>\n",
       "      <td>2007</td>\n",
       "      <td>16658000</td>\n",
       "      <td>0</td>\n",
       "    </tr>\n",
       "    <tr>\n",
       "      <th>2007-01-01</th>\n",
       "      <td>2007</td>\n",
       "      <td>10414000</td>\n",
       "      <td>0</td>\n",
       "    </tr>\n",
       "    <tr>\n",
       "      <th>2007-01-01</th>\n",
       "      <td>2007</td>\n",
       "      <td>6244000</td>\n",
       "      <td>0</td>\n",
       "    </tr>\n",
       "    <tr>\n",
       "      <th>2007-01-01</th>\n",
       "      <td>2007</td>\n",
       "      <td>2708000</td>\n",
       "      <td>0</td>\n",
       "    </tr>\n",
       "  </tbody>\n",
       "</table>\n",
       "<p>930 rows × 3 columns</p>\n",
       "</div>"
      ],
      "text/plain": [
       "            Year       added  anom\n",
       "Year                              \n",
       "2019-01-01  2019  5786759000     0\n",
       "2019-01-01  2019      392000     0\n",
       "2019-01-01  2019    18853000     0\n",
       "2019-01-01  2019  2874463000     0\n",
       "2019-01-01  2019    90438000     0\n",
       "...          ...         ...   ...\n",
       "2007-01-01  2007      222000     0\n",
       "2007-01-01  2007    16658000     0\n",
       "2007-01-01  2007    10414000     0\n",
       "2007-01-01  2007     6244000     0\n",
       "2007-01-01  2007     2708000     0\n",
       "\n",
       "[930 rows x 3 columns]"
      ]
     },
     "execution_count": 34,
     "metadata": {},
     "output_type": "execute_result"
    }
   ],
   "source": [
    "#Step 2: Create a new empty column for anomaly values corresponding to the year: \n",
    "merged_df = merged_df.assign(anom = 0)\n",
    "merged_df"
   ]
  },
  {
   "cell_type": "code",
   "execution_count": 35,
   "metadata": {},
   "outputs": [],
   "source": [
    "#fnc that returns the anomaly value from the corresponding year\n",
    "def check_anom(x):\n",
    "    return new_land_df.loc[new_land_df['Year'] == x, 'Value'].iloc[0]"
   ]
  },
  {
   "cell_type": "code",
   "execution_count": 36,
   "metadata": {},
   "outputs": [
    {
     "data": {
      "text/html": [
       "<div>\n",
       "<style scoped>\n",
       "    .dataframe tbody tr th:only-of-type {\n",
       "        vertical-align: middle;\n",
       "    }\n",
       "\n",
       "    .dataframe tbody tr th {\n",
       "        vertical-align: top;\n",
       "    }\n",
       "\n",
       "    .dataframe thead th {\n",
       "        text-align: right;\n",
       "    }\n",
       "</style>\n",
       "<table border=\"1\" class=\"dataframe\">\n",
       "  <thead>\n",
       "    <tr style=\"text-align: right;\">\n",
       "      <th></th>\n",
       "      <th>Year</th>\n",
       "      <th>added</th>\n",
       "      <th>anom</th>\n",
       "    </tr>\n",
       "    <tr>\n",
       "      <th>Year</th>\n",
       "      <th></th>\n",
       "      <th></th>\n",
       "      <th></th>\n",
       "    </tr>\n",
       "  </thead>\n",
       "  <tbody>\n",
       "    <tr>\n",
       "      <th>2019-01-01</th>\n",
       "      <td>2019</td>\n",
       "      <td>5786759000</td>\n",
       "      <td>1.42</td>\n",
       "    </tr>\n",
       "    <tr>\n",
       "      <th>2019-01-01</th>\n",
       "      <td>2019</td>\n",
       "      <td>392000</td>\n",
       "      <td>1.42</td>\n",
       "    </tr>\n",
       "    <tr>\n",
       "      <th>2019-01-01</th>\n",
       "      <td>2019</td>\n",
       "      <td>18853000</td>\n",
       "      <td>1.42</td>\n",
       "    </tr>\n",
       "    <tr>\n",
       "      <th>2019-01-01</th>\n",
       "      <td>2019</td>\n",
       "      <td>2874463000</td>\n",
       "      <td>1.42</td>\n",
       "    </tr>\n",
       "    <tr>\n",
       "      <th>2019-01-01</th>\n",
       "      <td>2019</td>\n",
       "      <td>90438000</td>\n",
       "      <td>1.42</td>\n",
       "    </tr>\n",
       "    <tr>\n",
       "      <th>...</th>\n",
       "      <td>...</td>\n",
       "      <td>...</td>\n",
       "      <td>...</td>\n",
       "    </tr>\n",
       "    <tr>\n",
       "      <th>2007-01-01</th>\n",
       "      <td>2007</td>\n",
       "      <td>222000</td>\n",
       "      <td>1.14</td>\n",
       "    </tr>\n",
       "    <tr>\n",
       "      <th>2007-01-01</th>\n",
       "      <td>2007</td>\n",
       "      <td>16658000</td>\n",
       "      <td>1.14</td>\n",
       "    </tr>\n",
       "    <tr>\n",
       "      <th>2007-01-01</th>\n",
       "      <td>2007</td>\n",
       "      <td>10414000</td>\n",
       "      <td>1.14</td>\n",
       "    </tr>\n",
       "    <tr>\n",
       "      <th>2007-01-01</th>\n",
       "      <td>2007</td>\n",
       "      <td>6244000</td>\n",
       "      <td>1.14</td>\n",
       "    </tr>\n",
       "    <tr>\n",
       "      <th>2007-01-01</th>\n",
       "      <td>2007</td>\n",
       "      <td>2708000</td>\n",
       "      <td>1.14</td>\n",
       "    </tr>\n",
       "  </tbody>\n",
       "</table>\n",
       "<p>930 rows × 3 columns</p>\n",
       "</div>"
      ],
      "text/plain": [
       "            Year       added  anom\n",
       "Year                              \n",
       "2019-01-01  2019  5786759000  1.42\n",
       "2019-01-01  2019      392000  1.42\n",
       "2019-01-01  2019    18853000  1.42\n",
       "2019-01-01  2019  2874463000  1.42\n",
       "2019-01-01  2019    90438000  1.42\n",
       "...          ...         ...   ...\n",
       "2007-01-01  2007      222000  1.14\n",
       "2007-01-01  2007    16658000  1.14\n",
       "2007-01-01  2007    10414000  1.14\n",
       "2007-01-01  2007     6244000  1.14\n",
       "2007-01-01  2007     2708000  1.14\n",
       "\n",
       "[930 rows x 3 columns]"
      ]
     },
     "execution_count": 36,
     "metadata": {},
     "output_type": "execute_result"
    }
   ],
   "source": [
    "# checking the fnc actually works and places anom values into the anom column in the new merged df\n",
    "merged_df['anom'] = merged_df['Year'].apply(check_anom)\n",
    "merged_df"
   ]
  },
  {
   "cell_type": "markdown",
   "metadata": {},
   "source": [
    "Linear Fit Report Information + Regression with Merged DF"
   ]
  },
  {
   "cell_type": "code",
   "execution_count": 37,
   "metadata": {},
   "outputs": [
    {
     "name": "stdout",
     "output_type": "stream",
     "text": [
      "Fit Report: \n",
      " \tUncert. on Y: +/- 335801409.32\n",
      " \tIntercept: -300725553.15 +/- 95907750.00\n",
      "\tSlope: 301870065.29 +/- 82204747.68\n",
      "\tPearson linear correlation: 0.12, r-squared: 0.01\n"
     ]
    }
   ],
   "source": [
    "# Since this doesn't work on nan values first we remove all potential nans.\n",
    "\n",
    "nan_mask = ((~np.isnan(merged_df['anom'])) & \n",
    "           (~np.isnan(merged_df['added'])))\n",
    "\n",
    "x_vals = merged_df.loc[nan_mask, 'anom']\n",
    "y_vals = merged_df.loc[nan_mask, 'added']\n",
    "\n",
    "#Run our linear regression\n",
    "slope, intercept, rval, pval, stderr = stats.linregress(x_vals, y_vals)\n",
    "\n",
    "\n",
    "#calculate the yvalues given the linear fit\n",
    "y_model = intercept + slope * x_vals\n",
    "\n",
    "\n",
    "#find y errors\n",
    "rmse  = lr.calc_rmse(y_model, y_vals)\n",
    "\n",
    "#error on coefficents, slope and y-intercept and.\n",
    "slope_error,  intercept_error = lr.calc_coeffs_error(x_vals,  rmse)\n",
    "\n",
    "\n",
    "#print out fit report - \n",
    "print(\"Fit Report: \\n \\tUncert. on Y: +/- {:.2f}\".format(rmse) + \n",
    "      \"\\n \\tIntercept: {:.2f} +/- {:.2f}\".format(intercept, intercept_error)\n",
    "      + \"\\n\\tSlope: {:.2f} +/- {:.2f}\".format(slope, slope_error) \n",
    "      + \"\\n\\tPearson linear correlation: {:.2f}, r-squared: {:.2f}\".format(rval, rval**2))"
   ]
  },
  {
   "cell_type": "code",
   "execution_count": 38,
   "metadata": {},
   "outputs": [
    {
     "name": "stdout",
     "output_type": "stream",
     "text": [
      "               added  anom\n",
      "Year                      \n",
      "2007-01-01      1000  1.14\n",
      "2007-01-01   4650000  1.14\n",
      "2007-01-01  12902000  1.14\n",
      "2007-01-01     35000  1.14\n",
      "2007-01-01    426000  1.14\n"
     ]
    }
   ],
   "source": [
    "#.sample is a method of dataframes - \n",
    "\n",
    "#the parameter frac means % of the dataframe we want in the sampling\n",
    "resample = merged_df[['added', 'anom']].sample(frac=1, replace=True)\n",
    "\n",
    "print(resample.head())"
   ]
  },
  {
   "cell_type": "code",
   "execution_count": 39,
   "metadata": {},
   "outputs": [
    {
     "name": "stdout",
     "output_type": "stream",
     "text": [
      "Fit Report: \n",
      " \tUncert. on Y: +/- 0.14\n",
      " \tIntercept: 1.16 +/- 0.00\n",
      "\tSlope: 0.00 +/- 0.00\n",
      "\tPearson linear correlation: 0.17, r-squared: 0.03\n"
     ]
    }
   ],
   "source": [
    "#And redo the fit for our newly resampled data frame\n",
    "\n",
    "nan_mask = ((~np.isnan(resample['added'])) & \n",
    "           (~np.isnan(resample['anom'])))\n",
    "\n",
    "x_vals = resample.loc[nan_mask, 'added']\n",
    "y_vals = resample.loc[nan_mask, 'anom']\n",
    "\n",
    "slope_orig, intercept_orig, rval_orig, pval_orig, stderr_orig = stats.linregress(x_vals, y_vals)\n",
    "slope, intercept, rval, pval, stderr = stats.linregress(x_vals, y_vals)\n",
    "\n",
    "#calculate the yvalues given the linear fit\n",
    "y_model = intercept + slope * x_vals\n",
    "\n",
    "\n",
    "#find y errors\n",
    "rmse  = lr.calc_rmse(y_model, y_vals)\n",
    "\n",
    "#error on coefficents, slope and y-intercept and.\n",
    "slope_error,  intercept_error = lr.calc_coeffs_error(x_vals,  rmse)\n",
    "\n",
    "\n",
    "#print out fit report - \n",
    "print(\"Fit Report: \\n \\tUncert. on Y: +/- {:.2f}\".format(rmse) + \n",
    "      \"\\n \\tIntercept: {:.2f} +/- {:.2f}\".format(intercept_orig, intercept_error)\n",
    "      + \"\\n\\tSlope: {:.2f} +/- {:.2f}\".format(slope, slope_error) \n",
    "      + \"\\n\\tPearson linear correlation: {:.2f}, r-squared: {:.2f}\".format(rval, rval**2))\n"
   ]
  },
  {
   "cell_type": "markdown",
   "metadata": {},
   "source": [
    "# Implementing Repetition"
   ]
  },
  {
   "cell_type": "code",
   "execution_count": 40,
   "metadata": {},
   "outputs": [
    {
     "name": "stdout",
     "output_type": "stream",
     "text": [
      "The mean r value is 0.12 with a standard deviation of 0.05105.\n"
     ]
    }
   ],
   "source": [
    "# We resample and calculate the fit many times\n",
    "\n",
    "# As suggested in class 500 would be appropiate. \n",
    "num_iterations = 500\n",
    "\n",
    "# create dictionary of bootstrap values\n",
    "bootstrap_vals = {\n",
    "                  'r_vals': np.zeros(num_iterations),\n",
    "                  'intercepts' : np.zeros(num_iterations),\n",
    "                  'slopes' : np.zeros(num_iterations)\n",
    "                  }\n",
    "\n",
    "for i in range(num_iterations):\n",
    "    \n",
    "    #resample the dataframe\n",
    "    resample = merged_df[['anom', \n",
    "                           'added']].sample(frac = 1, replace = True)\n",
    "    \n",
    "    #create nan mask\n",
    "    nan_mask = ((~np.isnan(resample['added'])) & \n",
    "               (~np.isnan(resample['anom'])))\n",
    "\n",
    "    #new values of x, and y without nans\n",
    "    x_vals = resample.loc[nan_mask, 'added']\n",
    "    y_vals = resample.loc[nan_mask, 'anom']\n",
    "\n",
    "    #Perform fit.\n",
    "    #Notice the underscore. \n",
    "    #This is just a placeholder for return values from our function\n",
    "    # that we are not going to use. The get returned but not\n",
    "    # assigned to any variable (meaning that we cannot use them,\n",
    "    # but here we are saying that we don't need to use them)\n",
    "    slope, intercept, rval, *_ = stats.linregress(x_vals, y_vals)\n",
    "    \n",
    "    # populate dictionay with the values\n",
    "    bootstrap_vals['r_vals'][i] = rval\n",
    "    \n",
    "    bootstrap_vals['intercepts'][i] = intercept\n",
    "    \n",
    "    bootstrap_vals['slopes'][i] = slope\n",
    "\n",
    "#print out final values\n",
    "print(\"The mean r value is {:.2f} with a standard deviation of {:.5f}.\".format(\n",
    "    np.mean(bootstrap_vals['r_vals']), \n",
    "    np.std(bootstrap_vals['r_vals'], ddof = 1)))"
   ]
  },
  {
   "cell_type": "markdown",
   "metadata": {},
   "source": [
    "# Evaluation of Fit\n",
    "Note that the axis on this graph and any other which says le9 is scaled so that the billion values and the thousand values of our data can be plotted together."
   ]
  },
  {
   "cell_type": "code",
   "execution_count": 41,
   "metadata": {},
   "outputs": [
    {
     "data": {
      "image/png": "[encoded data removed]",
      "text/plain": [
       "<Figure size 612x360 with 1 Axes>"
      ]
     },
     "metadata": {
      "needs_background": "light"
     },
     "output_type": "display_data"
    }
   ],
   "source": [
    "fig = plt.figure(figsize=(8.5, 5))\n",
    "fig.suptitle('Temp Anomaly Values on Crop Yield by Year, ' + \n",
    "             'Resampling Amount: {} \\n'.format(num_iterations), \n",
    "             fontsize=20)\n",
    "\n",
    "gs  = plt.GridSpec(1, 1, hspace=0.0, wspace=0.2, right = 0.9)\n",
    "\n",
    "#add subplots\n",
    "ax1 = fig.add_subplot(gs[0,0])\n",
    "\n",
    "#set up titles for axis\n",
    "ax1.set_xlabel('Crop Totals (Frequency)', fontsize = 20)\n",
    "ax1.set_ylabel('Anomaly Value', fontsize = 20)\n",
    "\n",
    "#plot values\n",
    "ax1.scatter(merged_df['added'], merged_df['anom'],  \n",
    "            color = '#660066', alpha = 0.6, s = 20)\n",
    "\n",
    "#make line equally spaced\n",
    "minimum_value  = np.nanmin(merged_df['added'])\n",
    "max_value  = np.nanmax(merged_df['added'])\n",
    "spacing = (max_value - minimum_value) / 20.0\n",
    "\n",
    "#create new xarray for pretty plotting\n",
    "x_vals = np.arange(minimum_value, max_value+spacing, int(spacing))\n",
    "\n",
    "for slope, intercept in zip(bootstrap_vals['slopes'], bootstrap_vals['intercepts']):\n",
    "    \n",
    "    #calculate y values\n",
    "    y_model = slope*x_vals + intercept \n",
    "    \n",
    "    #and plot in gray\n",
    "    ax1.plot(x_vals, y_model, color = 'grey', alpha = 0.2, lw = 1.0)\n",
    "    \n",
    "#plot final value in turquoise - \n",
    "ymodel_orig = slope_orig*x_vals + intercept_orig\n",
    "\n",
    "ax1.plot(x_vals, ymodel_orig, \n",
    "         color = '#006666', alpha = 1.0, linestyle = '--', lw = 3.0)\n",
    "\n",
    "\n",
    "#set up grid\n",
    "ax1.grid(color='gray', linestyle='dashed')\n",
    "\n",
    "#set up label sizes\n",
    "ax1.tick_params(labelsize = 16)\n",
    "\n",
    "# dpi stands for dots per inch, and sets the resolution\n",
    "# of the saved figure file. dpi=300 is usually \n",
    "# a good resolution for most applications.\n",
    "plt.savefig('bootstrap_linear_fits.png', dpi=300)"
   ]
  },
  {
   "cell_type": "code",
   "execution_count": 42,
   "metadata": {},
   "outputs": [
    {
     "name": "stdout",
     "output_type": "stream",
     "text": [
      "The number of bins for the histogram is: 23\n",
      "Skew: -0.392, Kurtosis: 3.450, Standard Dev: 0.051, Mean: 0.119\n"
     ]
    },
    {
     "data": {
      "image/png": "[encoded data removed]",
      "text/plain": [
       "<Figure size 792x504 with 1 Axes>"
      ]
     },
     "metadata": {
      "needs_background": "light"
     },
     "output_type": "display_data"
    }
   ],
   "source": [
    "#set up the figure \n",
    "fig, ax = plt.subplots(figsize=(11, 7))\n",
    "fig.suptitle('Histogram of Pearson Corr. Coeff. for Anomaly Values vs. Crop Totals \\n' + \n",
    "             'Resampling Amount: {}'.format(num_iterations), \n",
    "             fontsize=20)\n",
    "\n",
    "\n",
    "#minimum as the sqrt(sample_size)\n",
    "sample_size = num_iterations\n",
    "\n",
    "\n",
    "num_bins = int(np.ceil(np.sqrt(sample_size)))\n",
    "print(\"The number of bins for the histogram is: {}\".format(num_bins))\n",
    "\n",
    "#edgecolor and linewidth set up the bin edges\n",
    "ax.hist(bootstrap_vals['r_vals'], num_bins, density = False, facecolor = '#822f59', \n",
    "         edgecolor=\"k\")\n",
    "\n",
    "#set up grid\n",
    "ax.grid(color='gray', linestyle='dashed')\n",
    "\n",
    "#labels\n",
    "ax.set_xlabel('Pearson Correlation Coeff.', fontsize = 20)\n",
    "ax.set_ylabel('Occurrence', fontsize = 20)\n",
    "#large ticks\n",
    "plt.xticks(fontsize=16) #make the xaxis labels larger\n",
    "plt.yticks(fontsize=16) #make the yaxis labels larger\n",
    "\n",
    "#print out stats on the skew etc\n",
    "print(\"Skew: {:.3f}, Kurtosis: {:.3f}, Standard Dev: {:.3f}, Mean: {:.3f}\".format(\n",
    "        stats.skew(bootstrap_vals['r_vals']), \n",
    "        stats.kurtosis(bootstrap_vals['r_vals'], fisher = False), \n",
    "        np.std(bootstrap_vals['r_vals'], ddof = 1), \n",
    "        np.mean(bootstrap_vals['r_vals'])))\n"
   ]
  },
  {
   "cell_type": "code",
   "execution_count": 43,
   "metadata": {},
   "outputs": [
    {
     "name": "stdout",
     "output_type": "stream",
     "text": [
      "The z-test results in a comparison of the original fit to the bootstrap fit of 0.98184.\n"
     ]
    }
   ],
   "source": [
    "#how does the z value look?\n",
    "z_val = (abs((rval_orig - np.mean(bootstrap_vals['r_vals']))) / \n",
    "        (np.std(bootstrap_vals['r_vals'], ddof = 1)))\n",
    "\n",
    "print(\"The z-test results in a comparison\" + \n",
    "      \" of the original fit to the bootstrap fit of {:.5f}.\".format(z_val))"
   ]
  },
  {
   "cell_type": "markdown",
   "metadata": {},
   "source": [
    "# Determining Probability of Getting this R-Value by Chance"
   ]
  },
  {
   "cell_type": "code",
   "execution_count": 44,
   "metadata": {
    "scrolled": true
   },
   "outputs": [
    {
     "name": "stdout",
     "output_type": "stream",
     "text": [
      "0.8369099714707147\n"
     ]
    }
   ],
   "source": [
    "p = stats.t.cdf(x=z_val, df=1e6)\n",
    "print(p)"
   ]
  },
  {
   "cell_type": "markdown",
   "metadata": {},
   "source": [
    "# ANOVA Table Calculations for Linear\n",
    "statistical analysis to test the degree of differences between two or more groups of an experiment, in this case between the linear model returned values and the observed values "
   ]
  },
  {
   "cell_type": "code",
   "execution_count": 45,
   "metadata": {},
   "outputs": [],
   "source": [
    "y_obs = merged_df['added']\n",
    "def optim(x):   \n",
    "    return slope_orig*x + intercept_orig\n",
    "\n",
    "merged_df['opt'] = merged_df['added'].apply(optim)\n",
    "y_opt = merged_df['opt']\n",
    "\n",
    "#Calculating SSR:\n",
    "y_bar = y_obs.mean()\n",
    "ssr = sum((y_opt-y_bar)**2)\n",
    "#Calculating SSE: \n",
    "sse = sum((y_obs-y_opt)**2)\n",
    "#Calculating SST: \n",
    "sst = sum((y_obs-y_bar)**2)\n",
    "#Calculating MSR: \n",
    "msr = ssr / (3-1) #3 Unknown variables in the non-linear fit, so 2 dof\n",
    "#Calculating MSE:\n",
    "mse = sse / (930-3)\n",
    "#Calculating F-Stat: \n",
    "f_stat = msr / mse"
   ]
  },
  {
   "cell_type": "code",
   "execution_count": 46,
   "metadata": {},
   "outputs": [
    {
     "data": {
      "text/plain": [
       "2.2452837069603638e+18"
      ]
     },
     "execution_count": 46,
     "metadata": {},
     "output_type": "execute_result"
    }
   ],
   "source": [
    "ssr"
   ]
  },
  {
   "cell_type": "code",
   "execution_count": 47,
   "metadata": {},
   "outputs": [
    {
     "data": {
      "text/plain": [
       "1.0840955114527796e+20"
      ]
     },
     "execution_count": 47,
     "metadata": {},
     "output_type": "execute_result"
    }
   ],
   "source": [
    "sse"
   ]
  },
  {
   "cell_type": "code",
   "execution_count": 48,
   "metadata": {},
   "outputs": [
    {
     "data": {
      "text/plain": [
       "1.0616426745393252e+20"
      ]
     },
     "execution_count": 48,
     "metadata": {},
     "output_type": "execute_result"
    }
   ],
   "source": [
    "sst"
   ]
  },
  {
   "cell_type": "code",
   "execution_count": 49,
   "metadata": {},
   "outputs": [
    {
     "data": {
      "text/plain": [
       "1.1226418534801819e+18"
      ]
     },
     "execution_count": 49,
     "metadata": {},
     "output_type": "execute_result"
    }
   ],
   "source": [
    "msr"
   ]
  },
  {
   "cell_type": "code",
   "execution_count": 50,
   "metadata": {},
   "outputs": [
    {
     "data": {
      "text/plain": [
       "1.1694665711464722e+17"
      ]
     },
     "execution_count": 50,
     "metadata": {},
     "output_type": "execute_result"
    }
   ],
   "source": [
    "mse"
   ]
  },
  {
   "cell_type": "code",
   "execution_count": 51,
   "metadata": {},
   "outputs": [
    {
     "data": {
      "text/plain": [
       "9.599606189509236"
      ]
     },
     "execution_count": 51,
     "metadata": {},
     "output_type": "execute_result"
    }
   ],
   "source": [
    "f_stat"
   ]
  },
  {
   "cell_type": "markdown",
   "metadata": {},
   "source": [
    "# Non Linear Fit of Y-Data"
   ]
  },
  {
   "cell_type": "code",
   "execution_count": 52,
   "metadata": {},
   "outputs": [
    {
     "data": {
      "text/html": [
       "<div>\n",
       "<style scoped>\n",
       "    .dataframe tbody tr th:only-of-type {\n",
       "        vertical-align: middle;\n",
       "    }\n",
       "\n",
       "    .dataframe tbody tr th {\n",
       "        vertical-align: top;\n",
       "    }\n",
       "\n",
       "    .dataframe thead th {\n",
       "        text-align: right;\n",
       "    }\n",
       "</style>\n",
       "<table border=\"1\" class=\"dataframe\">\n",
       "  <thead>\n",
       "    <tr style=\"text-align: right;\">\n",
       "      <th></th>\n",
       "      <th>Year</th>\n",
       "      <th>added</th>\n",
       "      <th>anom</th>\n",
       "      <th>opt</th>\n",
       "    </tr>\n",
       "    <tr>\n",
       "      <th>Year</th>\n",
       "      <th></th>\n",
       "      <th></th>\n",
       "      <th></th>\n",
       "      <th></th>\n",
       "    </tr>\n",
       "  </thead>\n",
       "  <tbody>\n",
       "    <tr>\n",
       "      <th>2019-01-01</th>\n",
       "      <td>2019</td>\n",
       "      <td>5786759000</td>\n",
       "      <td>1.42</td>\n",
       "      <td>1.587184</td>\n",
       "    </tr>\n",
       "    <tr>\n",
       "      <th>2019-01-01</th>\n",
       "      <td>2019</td>\n",
       "      <td>392000</td>\n",
       "      <td>1.42</td>\n",
       "      <td>1.161646</td>\n",
       "    </tr>\n",
       "    <tr>\n",
       "      <th>2019-01-01</th>\n",
       "      <td>2019</td>\n",
       "      <td>18853000</td>\n",
       "      <td>1.42</td>\n",
       "      <td>1.163004</td>\n",
       "    </tr>\n",
       "    <tr>\n",
       "      <th>2019-01-01</th>\n",
       "      <td>2019</td>\n",
       "      <td>2874463000</td>\n",
       "      <td>1.42</td>\n",
       "      <td>1.373009</td>\n",
       "    </tr>\n",
       "    <tr>\n",
       "      <th>2019-01-01</th>\n",
       "      <td>2019</td>\n",
       "      <td>90438000</td>\n",
       "      <td>1.42</td>\n",
       "      <td>1.168268</td>\n",
       "    </tr>\n",
       "    <tr>\n",
       "      <th>...</th>\n",
       "      <td>...</td>\n",
       "      <td>...</td>\n",
       "      <td>...</td>\n",
       "      <td>...</td>\n",
       "    </tr>\n",
       "    <tr>\n",
       "      <th>2007-01-01</th>\n",
       "      <td>2007</td>\n",
       "      <td>222000</td>\n",
       "      <td>1.14</td>\n",
       "      <td>1.161634</td>\n",
       "    </tr>\n",
       "    <tr>\n",
       "      <th>2007-01-01</th>\n",
       "      <td>2007</td>\n",
       "      <td>16658000</td>\n",
       "      <td>1.14</td>\n",
       "      <td>1.162842</td>\n",
       "    </tr>\n",
       "    <tr>\n",
       "      <th>2007-01-01</th>\n",
       "      <td>2007</td>\n",
       "      <td>10414000</td>\n",
       "      <td>1.14</td>\n",
       "      <td>1.162383</td>\n",
       "    </tr>\n",
       "    <tr>\n",
       "      <th>2007-01-01</th>\n",
       "      <td>2007</td>\n",
       "      <td>6244000</td>\n",
       "      <td>1.14</td>\n",
       "      <td>1.162077</td>\n",
       "    </tr>\n",
       "    <tr>\n",
       "      <th>2007-01-01</th>\n",
       "      <td>2007</td>\n",
       "      <td>2708000</td>\n",
       "      <td>1.14</td>\n",
       "      <td>1.161817</td>\n",
       "    </tr>\n",
       "  </tbody>\n",
       "</table>\n",
       "<p>930 rows × 4 columns</p>\n",
       "</div>"
      ],
      "text/plain": [
       "            Year       added  anom       opt\n",
       "Year                                        \n",
       "2019-01-01  2019  5786759000  1.42  1.587184\n",
       "2019-01-01  2019      392000  1.42  1.161646\n",
       "2019-01-01  2019    18853000  1.42  1.163004\n",
       "2019-01-01  2019  2874463000  1.42  1.373009\n",
       "2019-01-01  2019    90438000  1.42  1.168268\n",
       "...          ...         ...   ...       ...\n",
       "2007-01-01  2007      222000  1.14  1.161634\n",
       "2007-01-01  2007    16658000  1.14  1.162842\n",
       "2007-01-01  2007    10414000  1.14  1.162383\n",
       "2007-01-01  2007     6244000  1.14  1.162077\n",
       "2007-01-01  2007     2708000  1.14  1.161817\n",
       "\n",
       "[930 rows x 4 columns]"
      ]
     },
     "execution_count": 52,
     "metadata": {},
     "output_type": "execute_result"
    }
   ],
   "source": [
    "merged_df"
   ]
  },
  {
   "cell_type": "code",
   "execution_count": 53,
   "metadata": {},
   "outputs": [
    {
     "name": "stdout",
     "output_type": "stream",
     "text": [
      "y = -3946740233.48625 * x + 1728430671.34963 * x^2 + 2270627747.63404\n"
     ]
    },
    {
     "data": {
      "image/png": "[encoded data removed]",
      "text/plain": [
       "<Figure size 432x288 with 1 Axes>"
      ]
     },
     "metadata": {
      "needs_background": "light"
     },
     "output_type": "display_data"
    }
   ],
   "source": [
    "# define the true objective function\n",
    "def objective(x, a, b, c):\n",
    "    return a * x + b * x**2 + c\n",
    "\n",
    "# load the dataset\n",
    "data = merged_df.values\n",
    "\n",
    "# choose the input and output variables\n",
    "x, y = merged_df.iloc[:, 2], merged_df.iloc[:, 1]\n",
    "# curve fit\n",
    "popt, _ = curve_fit(objective, x, y)\n",
    "\n",
    "# summarize the parameter values\n",
    "a, b, c = popt\n",
    "print('y = %.5f * x + %.5f * x^2 + %.5f' % (a, b, c))\n",
    "\n",
    "# plot input vs output\n",
    "pyplot.scatter(x, y)\n",
    "\n",
    "# define a sequence of inputs between the smallest and largest known inputs\n",
    "x_line = arange(min(x), max(x), 0.1)\n",
    "\n",
    "# calculate the output for the range\n",
    "y_line = objective(x_line, a, b, c)\n",
    "\n",
    "# create a line plot for the mapping function\n",
    "pyplot.plot(x_line, y_line, '--', color='red')\n",
    "pyplot.show()"
   ]
  },
  {
   "attachments": {
    "Graph.PNG": {
     "image/png": "[encoded data removed]"
    }
   },
   "cell_type": "markdown",
   "metadata": {},
   "source": [
    "![Graph.PNG](attachment:Graph.PNG)"
   ]
  },
  {
   "cell_type": "markdown",
   "metadata": {},
   "source": [
    "# ANOVA Table Calculations for Non-Linear\n",
    "same statistical analysis to test the degree of differences between two or more groups of an experiment, except in this case, we are testing teh degrees of difference between the non-linear returned and observed values"
   ]
  },
  {
   "cell_type": "code",
   "execution_count": 54,
   "metadata": {},
   "outputs": [],
   "source": [
    "y_obs = merged_df['added']\n",
    "def optim(x):   \n",
    "    return -3946740233.48625 * x + 1728430671.34963 * (x**2) + 2270627747.63404\n",
    "\n",
    "merged_df['opt'] = merged_df['added'].apply(optim)\n",
    "y_opt = merged_df['opt']\n",
    "\n",
    "#Calculating SSR:\n",
    "y_bar = y_obs.mean()\n",
    "ssr = sum((y_opt-y_bar)**2)\n",
    "#Calculating SSE: \n",
    "sse = sum((y_obs-y_opt)**2)\n",
    "#Calculating SST: \n",
    "sst = sum((y_obs-y_bar)**2)\n",
    "#Calculating MSR: \n",
    "msr = ssr / (3-1) #3 Unknown variables in the non-linear fit, so 2 dof\n",
    "#Calculating MSE:\n",
    "mse = sse / (930-3)\n",
    "#Calculating F-Stat: \n",
    "f_stat = msr / mse"
   ]
  },
  {
   "cell_type": "code",
   "execution_count": 55,
   "metadata": {},
   "outputs": [
    {
     "data": {
      "text/plain": [
       "5.527276054198629e+57"
      ]
     },
     "execution_count": 55,
     "metadata": {},
     "output_type": "execute_result"
    }
   ],
   "source": [
    "ssr"
   ]
  },
  {
   "cell_type": "code",
   "execution_count": 56,
   "metadata": {},
   "outputs": [
    {
     "data": {
      "text/plain": [
       "5.527276054198629e+57"
      ]
     },
     "execution_count": 56,
     "metadata": {},
     "output_type": "execute_result"
    }
   ],
   "source": [
    "sse"
   ]
  },
  {
   "cell_type": "code",
   "execution_count": 57,
   "metadata": {},
   "outputs": [
    {
     "data": {
      "text/plain": [
       "1.0616426745393252e+20"
      ]
     },
     "execution_count": 57,
     "metadata": {},
     "output_type": "execute_result"
    }
   ],
   "source": [
    "sst"
   ]
  },
  {
   "cell_type": "code",
   "execution_count": 58,
   "metadata": {},
   "outputs": [
    {
     "data": {
      "text/plain": [
       "2.7636380270993145e+57"
      ]
     },
     "execution_count": 58,
     "metadata": {},
     "output_type": "execute_result"
    }
   ],
   "source": [
    "msr"
   ]
  },
  {
   "cell_type": "code",
   "execution_count": 59,
   "metadata": {},
   "outputs": [
    {
     "data": {
      "text/plain": [
       "5.962541590289783e+54"
      ]
     },
     "execution_count": 59,
     "metadata": {},
     "output_type": "execute_result"
    }
   ],
   "source": [
    "mse"
   ]
  },
  {
   "cell_type": "code",
   "execution_count": 60,
   "metadata": {},
   "outputs": [
    {
     "data": {
      "text/plain": [
       "463.5"
      ]
     },
     "execution_count": 60,
     "metadata": {},
     "output_type": "execute_result"
    }
   ],
   "source": [
    "f_stat"
   ]
  },
  {
   "cell_type": "markdown",
   "metadata": {},
   "source": [
    "# Conclusion\n",
    "\n",
    "When doing all of these tests, I learned that my data is logarithmic in nature, and that when resampled, or fit on a logarithmic scale, the data is indeed very normal. Without any adjustments, however, the data appears to be very bottom heavy and abnormal. Since most of the tests led to a rejection of the null hypothesis, we will choose our alternative hypothesis and state that there is no significant correlation between anomaly values and crop yield when location is not a factor. \n"
   ]
  }
 ],
 "metadata": {
  "kernelspec": {
   "display_name": "Python 3",
   "language": "python",
   "name": "python3"
  },
  "language_info": {
   "codemirror_mode": {
    "name": "ipython",
    "version": 3
   },
   "file_extension": ".py",
   "mimetype": "text/x-python",
   "name": "python",
   "nbconvert_exporter": "python",
   "pygments_lexer": "ipython3",
   "version": "3.8.5"
  }
 },
 "nbformat": 4,
 "nbformat_minor": 4
}
